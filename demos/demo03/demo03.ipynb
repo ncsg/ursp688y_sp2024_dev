{
 "cells": [
  {
   "cell_type": "markdown",
   "id": "13b62af4-9c03-46d7-805c-cebadd28185e",
   "metadata": {
    "editable": true,
    "slideshow": {
     "slide_type": ""
    },
    "tags": []
   },
   "source": [
    "Urban Data Science & Smart Cities <br>\n",
    "URSP688Y <br>\n",
    "Instructor: Chester Harvey <br>\n",
    "Urban Studies & Planning <br>\n",
    "National Center for Smart Growth <br>\n",
    "University of Maryland"
   ]
  },
  {
   "cell_type": "markdown",
   "id": "c01d7dab-14e4-4222-b82b-8d400bce0e2c",
   "metadata": {},
   "source": [
    "[<img src=\"https://colab.research.google.com/assets/colab-badge.svg\"> Clean version](https://colab.research.google.com/github/ncsg/ursp688y_sp2024/blob/main/demos/demo03/demo03.ipynb)"
   ]
  },
  {
   "cell_type": "markdown",
   "id": "e7a0a5da-0108-408b-b306-58f59b895ad8",
   "metadata": {},
   "source": [
    "[<img src=\"https://colab.research.google.com/assets/colab-badge.svg\"> Modified in class](https://colab.research.google.com/drive/11bvlfaXuamFZ__Bb97a2IGYom05Mtj5z?usp=sharing)"
   ]
  },
  {
   "attachments": {},
   "cell_type": "markdown",
   "id": "b7d7937e-5289-44bb-ac8b-1e0b03a74e0b",
   "metadata": {},
   "source": [
    "# Demo 3 - Tabular Analysis\n",
    "\n",
    "(not necessarily in this order)\n",
    "\n",
    "- Importing packages\n",
    "- Documentation\n",
    "- Classes\n",
    "- Table structure\n",
    "  - Tidy data\n",
    "- Pandas\n",
    "  - DataFrames\n",
    "  - Calculations with columns\n",
    "  - Series\n",
    "  - Previewing\n",
    "  - Selection and filtering\n",
    "  - Grouping\n",
    "  - Apply\n",
    "  - Converting wide to long\n",
    "- Using a debugger"
   ]
  },
  {
   "attachments": {},
   "cell_type": "markdown",
   "id": "7ae0b508-33ea-4865-936c-af1da869e8c0",
   "metadata": {},
   "source": [
    "## Importing packages\n",
    "\n",
    "Now that we have basic data structures under our belts—integers, floats, booleans, strings, lists, and dictionaries—we can put them together into a more complex and capable data structure: a table.\n",
    "\n",
    "We could write our own custom code to combine lists and dictionaries into a table, *or* we could use someone else's code (actually, many, many other peoples' code) to do this in a way that has become an industry standard. (Will you write the next industry-standard Python tool? More on that later in the semester...)\n",
    "\n",
    "The easiest way to use other peoples' code in a way that is well-tested and documented is through a **package**.\n",
    "\n",
    "Many packages come pre-installed with CoLab, so all we have to do is import them into our namespace.\n",
    "\n",
    "Later in the semester, we'll learn how to install additional packages, and maybe even make our own packages.\n",
    "\n",
    "To import a package into your namespace, use the special `import` command, demonstrated below.\n",
    "\n",
    "Packages are often imported with aliases for brevity. I'll use the standard aliases, but they are technically arbitrary, just like variable names.\n",
    "\n",
    "## Pandas\n",
    "\n",
    "[_Pandas_](https://pandas.pydata.org/) (Python Data Analysis Library) is currently the most popular way to analyze tables in Python.\n",
    "\n",
    "The tabular data structure at the heart of Pandas is the `DataFrame`.\n",
    "\n",
    "Let's import `pandas` with the alias `pd` for short."
   ]
  },
  {
   "cell_type": "code",
   "execution_count": 1,
   "id": "585cbba5-e85a-47b4-a8e7-6d66fa692a08",
   "metadata": {},
   "outputs": [],
   "source": [
    "import pandas as pd # Note I'm importing the package with an alias: pd. This is for brevity.\n",
    "                    # The 'as' keyword acts like an assignment operator,\n",
    "                    # assigning the name 'pd' to the contents of the pandas package"
   ]
  },
  {
   "cell_type": "markdown",
   "id": "9e669e3c-02a4-4773-9055-9c8e3c0407a6",
   "metadata": {},
   "source": [
    "### DataFrames\n",
    "\n",
    "Now we can use pandas to make a `DataFrame`.\n",
    "\n",
    "Notice that we're just entering dictionaries, strings, and ints? Under the hood, Pandas is also storing these data with these basic types. But it will give us a lot of tools to do sophisticated things with them."
   ]
  },
  {
   "cell_type": "code",
   "execution_count": 2,
   "id": "83c54a73-83a3-4730-b2e5-5b203f2cafbf",
   "metadata": {},
   "outputs": [
    {
     "data": {
      "text/html": [
       "<div>\n",
       "<style scoped>\n",
       "    .dataframe tbody tr th:only-of-type {\n",
       "        vertical-align: middle;\n",
       "    }\n",
       "\n",
       "    .dataframe tbody tr th {\n",
       "        vertical-align: top;\n",
       "    }\n",
       "\n",
       "    .dataframe thead th {\n",
       "        text-align: right;\n",
       "    }\n",
       "</style>\n",
       "<table border=\"1\" class=\"dataframe\">\n",
       "  <thead>\n",
       "    <tr style=\"text-align: right;\">\n",
       "      <th></th>\n",
       "      <th>english</th>\n",
       "      <th>math</th>\n",
       "      <th>science</th>\n",
       "      <th>gender</th>\n",
       "    </tr>\n",
       "  </thead>\n",
       "  <tbody>\n",
       "    <tr>\n",
       "      <th>Daniela</th>\n",
       "      <td>83</td>\n",
       "      <td>95</td>\n",
       "      <td>90</td>\n",
       "      <td>female</td>\n",
       "    </tr>\n",
       "    <tr>\n",
       "      <th>Zoe</th>\n",
       "      <td>97</td>\n",
       "      <td>83</td>\n",
       "      <td>87</td>\n",
       "      <td>female</td>\n",
       "    </tr>\n",
       "    <tr>\n",
       "      <th>Rowen</th>\n",
       "      <td>77</td>\n",
       "      <td>73</td>\n",
       "      <td>95</td>\n",
       "      <td>male</td>\n",
       "    </tr>\n",
       "    <tr>\n",
       "      <th>Jude</th>\n",
       "      <td>95</td>\n",
       "      <td>80</td>\n",
       "      <td>73</td>\n",
       "      <td>non-binary</td>\n",
       "    </tr>\n",
       "    <tr>\n",
       "      <th>Austin</th>\n",
       "      <td>87</td>\n",
       "      <td>100</td>\n",
       "      <td>80</td>\n",
       "      <td>male</td>\n",
       "    </tr>\n",
       "    <tr>\n",
       "      <th>Jasper</th>\n",
       "      <td>92</td>\n",
       "      <td>94</td>\n",
       "      <td>99</td>\n",
       "      <td>non-binary</td>\n",
       "    </tr>\n",
       "    <tr>\n",
       "      <th>Liora</th>\n",
       "      <td>88</td>\n",
       "      <td>89</td>\n",
       "      <td>87</td>\n",
       "      <td>female</td>\n",
       "    </tr>\n",
       "    <tr>\n",
       "      <th>Kieran</th>\n",
       "      <td>72</td>\n",
       "      <td>96</td>\n",
       "      <td>90</td>\n",
       "      <td>male</td>\n",
       "    </tr>\n",
       "  </tbody>\n",
       "</table>\n",
       "</div>"
      ],
      "text/plain": [
       "         english  math  science      gender\n",
       "Daniela       83    95       90      female\n",
       "Zoe           97    83       87      female\n",
       "Rowen         77    73       95        male\n",
       "Jude          95    80       73  non-binary\n",
       "Austin        87   100       80        male\n",
       "Jasper        92    94       99  non-binary\n",
       "Liora         88    89       87      female\n",
       "Kieran        72    96       90        male"
      ]
     },
     "execution_count": 2,
     "metadata": {},
     "output_type": "execute_result"
    }
   ],
   "source": [
    "columnwise_data = {\n",
    "    'english': {'Daniela': 83, 'Zoe': 97, 'Rowen': 77, 'Jude': 95, 'Austin': 87, 'Jasper': 92, 'Liora': 88, 'Kieran': 72},\n",
    "    'math': {'Daniela': 95, 'Zoe': 83, 'Rowen': 73, 'Jude': 80, 'Austin': 100, 'Jasper': 94, 'Liora': 89, 'Kieran': 96},\n",
    "    'science': {'Daniela': 90, 'Zoe': 87, 'Rowen': 95, 'Jude': 73, 'Austin': 80, 'Jasper': 99, 'Liora': 87, 'Kieran': 90},\n",
    "    'gender':{'Daniela': 'female', 'Zoe': 'female', 'Rowen': 'male', 'Jude': 'non-binary', 'Austin': 'male', 'Jasper': 'non-binary', 'Liora': 'female', 'Kieran': 'male'},\n",
    "}\n",
    "\n",
    "df = pd.DataFrame(columnwise_data)\n",
    "df"
   ]
  },
  {
   "cell_type": "markdown",
   "id": "1fad0893-098a-42be-89d4-256aa8f32b90",
   "metadata": {},
   "source": [
    "We could also enter the same data with a different structure. Rather than nested dictionaries, each representing a named column, we have a list of dictionaries, each representing a row (or in database-speak, a 'record')."
   ]
  },
  {
   "cell_type": "code",
   "execution_count": 3,
   "id": "164f4793-8a43-4c79-9de7-d471d39d2e19",
   "metadata": {},
   "outputs": [
    {
     "data": {
      "text/html": [
       "<div>\n",
       "<style scoped>\n",
       "    .dataframe tbody tr th:only-of-type {\n",
       "        vertical-align: middle;\n",
       "    }\n",
       "\n",
       "    .dataframe tbody tr th {\n",
       "        vertical-align: top;\n",
       "    }\n",
       "\n",
       "    .dataframe thead th {\n",
       "        text-align: right;\n",
       "    }\n",
       "</style>\n",
       "<table border=\"1\" class=\"dataframe\">\n",
       "  <thead>\n",
       "    <tr style=\"text-align: right;\">\n",
       "      <th></th>\n",
       "      <th>name</th>\n",
       "      <th>english</th>\n",
       "      <th>math</th>\n",
       "      <th>science</th>\n",
       "      <th>gender</th>\n",
       "    </tr>\n",
       "  </thead>\n",
       "  <tbody>\n",
       "    <tr>\n",
       "      <th>0</th>\n",
       "      <td>Daniela</td>\n",
       "      <td>83</td>\n",
       "      <td>95</td>\n",
       "      <td>90</td>\n",
       "      <td>female</td>\n",
       "    </tr>\n",
       "    <tr>\n",
       "      <th>1</th>\n",
       "      <td>Zoe</td>\n",
       "      <td>97</td>\n",
       "      <td>83</td>\n",
       "      <td>87</td>\n",
       "      <td>female</td>\n",
       "    </tr>\n",
       "    <tr>\n",
       "      <th>2</th>\n",
       "      <td>Rowen</td>\n",
       "      <td>77</td>\n",
       "      <td>73</td>\n",
       "      <td>95</td>\n",
       "      <td>male</td>\n",
       "    </tr>\n",
       "    <tr>\n",
       "      <th>3</th>\n",
       "      <td>Jude</td>\n",
       "      <td>95</td>\n",
       "      <td>80</td>\n",
       "      <td>73</td>\n",
       "      <td>non-binary</td>\n",
       "    </tr>\n",
       "    <tr>\n",
       "      <th>4</th>\n",
       "      <td>Austin</td>\n",
       "      <td>87</td>\n",
       "      <td>100</td>\n",
       "      <td>80</td>\n",
       "      <td>male</td>\n",
       "    </tr>\n",
       "    <tr>\n",
       "      <th>5</th>\n",
       "      <td>Jasper</td>\n",
       "      <td>92</td>\n",
       "      <td>94</td>\n",
       "      <td>99</td>\n",
       "      <td>non-binary</td>\n",
       "    </tr>\n",
       "    <tr>\n",
       "      <th>6</th>\n",
       "      <td>Liora</td>\n",
       "      <td>88</td>\n",
       "      <td>89</td>\n",
       "      <td>87</td>\n",
       "      <td>female</td>\n",
       "    </tr>\n",
       "    <tr>\n",
       "      <th>7</th>\n",
       "      <td>Kieran</td>\n",
       "      <td>72</td>\n",
       "      <td>96</td>\n",
       "      <td>90</td>\n",
       "      <td>male</td>\n",
       "    </tr>\n",
       "  </tbody>\n",
       "</table>\n",
       "</div>"
      ],
      "text/plain": [
       "      name  english  math  science      gender\n",
       "0  Daniela       83    95       90      female\n",
       "1      Zoe       97    83       87      female\n",
       "2    Rowen       77    73       95        male\n",
       "3     Jude       95    80       73  non-binary\n",
       "4   Austin       87   100       80        male\n",
       "5   Jasper       92    94       99  non-binary\n",
       "6    Liora       88    89       87      female\n",
       "7   Kieran       72    96       90        male"
      ]
     },
     "execution_count": 3,
     "metadata": {},
     "output_type": "execute_result"
    }
   ],
   "source": [
    "recordwise_data = [\n",
    "    {'name': 'Daniela', 'english': 83, 'math': 95, 'science': 90, 'gender':'female'},\n",
    "    {'name': 'Zoe', 'english': 97, 'math': 83, 'science': 87, 'gender':'female'},\n",
    "    {'name': 'Rowen', 'english': 77, 'math': 73, 'science': 95, 'gender':'male'},\n",
    "    {'name': 'Jude', 'english': 95, 'math': 80, 'science': 73, 'gender':'non-binary'},\n",
    "    {'name': 'Austin', 'english': 87, 'math': 100, 'science': 80, 'gender':'male'},\n",
    "    {'name': 'Jasper', 'english': 92, 'math': 94, 'science': 99, 'gender':'non-binary'},\n",
    "    {'name': 'Liora', 'english': 88, 'math': 89, 'science': 87, 'gender':'female'},\n",
    "    {'name': 'Kieran', 'english': 72, 'math': 96, 'science': 90, 'gender':'male'},\n",
    "]\n",
    "\n",
    "df_recordwise = pd.DataFrame.from_records(recordwise_data) # Pandas will automatically recognize this recordwise structure,\n",
    "                                                # but you can be explicit about it with the `from_records` method\n",
    "df_recordwise"
   ]
  },
  {
   "cell_type": "markdown",
   "id": "5b8bc802-450e-452a-b620-bbeb82f8118e",
   "metadata": {},
   "source": [
    "## Sidebar: Documentation\n",
    "\n",
    "This is a good time for a tangent on documentation.\n",
    "\n",
    "A benefit of well-established packages is that they come with lots of good instructions and examples.\n",
    "\n",
    "You can access that documentation in a variety of ways."
   ]
  },
  {
   "cell_type": "code",
   "execution_count": 4,
   "id": "f2e44513-0db4-4ceb-a308-5f3f6071bc23",
   "metadata": {},
   "outputs": [],
   "source": [
    "# Use the `help` function directly in Python\n",
    "# help(pd.DataFrame) # This can get overwhelming fast..."
   ]
  },
  {
   "cell_type": "markdown",
   "id": "93ccc30b-6375-4d2a-be6d-ca925ef1262a",
   "metadata": {},
   "source": [
    "Approximately the same information, in a much easier-to-read format, should be available in the [package's online documentation](https://pandas.pydata.org/docs/user_guide/index.html#user-guide).\n",
    "\n",
    "In general, the more established the package, and the more contributors, the better the documentation tends to be."
   ]
  },
  {
   "cell_type": "markdown",
   "id": "4c479574-f807-44f4-a21c-ebb0ce2a2dd7",
   "metadata": {},
   "source": [
    "## Sidebar: Classes\n",
    "\n",
    "With Dataframes, we are getting more involved with a very powerful variety of Python object called a `class`.\n",
    "\n",
    "Fundamentally, you have already been using classes without knowing it. All data types are classes: `int`, `float`, `str`, `list`, `dict`, etc.\n",
    "\n",
    "It's also possible to make your own customized classes, building on existing ones. For now, we're going to use other peoples' customized classes. Eventually, we might make our own.\n",
    "\n",
    "Classes store data along with functions that let you do specific things with those data. These special functions, stored inside classes, are called `methods`.\n",
    "\n",
    "For example, the `str` class has many convenient methods: "
   ]
  },
  {
   "cell_type": "code",
   "execution_count": 5,
   "id": "c435909e-20fc-41a3-b2a1-2b887951c781",
   "metadata": {},
   "outputs": [
    {
     "data": {
      "text/plain": [
       "'chester'"
      ]
     },
     "execution_count": 5,
     "metadata": {},
     "output_type": "execute_result"
    }
   ],
   "source": [
    "x = 'Chester'\n",
    "x.lower() # Notice that running a method requires parentheses, just like a function.\n",
    "          # Sometimes, they take arguments, also like a function."
   ]
  },
  {
   "cell_type": "markdown",
   "id": "0163e21c-a931-4e11-aeaa-20cc440d16cd",
   "metadata": {},
   "source": [
    "Classes can also have built-in attributes. But strings don't have any by default, so let's use our dataframe as an example instead:"
   ]
  },
  {
   "cell_type": "code",
   "execution_count": 6,
   "id": "f70f1023-831f-4cc6-9a59-08b6649a9af1",
   "metadata": {},
   "outputs": [
    {
     "data": {
      "text/plain": [
       "Index(['english', 'math', 'science', 'gender'], dtype='object')"
      ]
     },
     "execution_count": 6,
     "metadata": {},
     "output_type": "execute_result"
    }
   ],
   "source": [
    "df.columns # Notice you don't use parentheses when accessing an attribute because it's not running a process, just looking up a piece of data  "
   ]
  },
  {
   "cell_type": "markdown",
   "id": "77513d5e-95d6-4b4a-940e-daabc4142ffe",
   "metadata": {},
   "source": [
    "You can see all the attributes and methods available for a class in it's [documentation](https://pandas.pydata.org/pandas-docs/stable/reference/api/pandas.DataFrame.html) or with the built-in `dir` function:"
   ]
  },
  {
   "cell_type": "code",
   "execution_count": 7,
   "id": "b5a7bc9b-787c-412c-baa0-f1d388b4603a",
   "metadata": {},
   "outputs": [],
   "source": [
    "# dir(pd.DataFrame)"
   ]
  },
  {
   "cell_type": "markdown",
   "id": "c5fdac67-e427-41e9-93ae-d8734d21aecc",
   "metadata": {},
   "source": [
    "### Class Instances\n",
    "\n",
    "One reason classes are so powerful is that they provide a structure for replication. They are essentially templates for storing information that can be slightly customized in many seperate _instances_.\n",
    "\n",
    "The class `pd.DataFrame` is the template used to create a dataframe. If we make a dataframe instance, it will have all the same basic structure of the overarching class, but it will also have unique attributes related to the inputs used to build it.\n",
    "\n",
    "For example, the dataframe we made above is an instance of the `pd.DataFrame` class:"
   ]
  },
  {
   "cell_type": "code",
   "execution_count": 8,
   "id": "6c7a1ccc-516c-482e-b865-449075ba04a8",
   "metadata": {},
   "outputs": [
    {
     "data": {
      "text/plain": [
       "pandas.core.frame.DataFrame"
      ]
     },
     "execution_count": 8,
     "metadata": {},
     "output_type": "execute_result"
    }
   ],
   "source": [
    "type(df)"
   ]
  },
  {
   "cell_type": "markdown",
   "id": "7f9bdd59-4471-480f-93cc-e08d79610d70",
   "metadata": {},
   "source": [
    "But because we populated it with specific data, it has attributes specific to it, such as the column names:"
   ]
  },
  {
   "cell_type": "code",
   "execution_count": 9,
   "id": "696aac7b-4adb-4b3d-88fa-840fe2410df7",
   "metadata": {},
   "outputs": [
    {
     "data": {
      "text/plain": [
       "Index(['english', 'math', 'science', 'gender'], dtype='object')"
      ]
     },
     "execution_count": 9,
     "metadata": {},
     "output_type": "execute_result"
    }
   ],
   "source": [
    "df.columns\n",
    "\n",
    "# dif(df) # Notice this will show some attributes unique to this instance"
   ]
  },
  {
   "cell_type": "markdown",
   "id": "1a9644c7-f439-4c2f-b7fd-a63476dcfabe",
   "metadata": {},
   "source": [
    "## Calculations with columns\n",
    "\n",
    "Now that we're familiar with what classes (like DataFrames) can do in the abstract, let's start using them to do some analysis.\n",
    "\n",
    "Last week, we learned about loops, and don't forget them! They will always be an important basic tool.\n",
    "\n",
    "However, tables let you do calculations that are loop-like with more concise syntax and (often) more computational efficiency.\n",
    "\n",
    "Let's say we wanted to calculate the average of grades for each student across their three subjects. We could do this calculation across the entire table at once:"
   ]
  },
  {
   "cell_type": "code",
   "execution_count": 10,
   "id": "89dac58b-7222-4b7c-83eb-900c1bc4e88a",
   "metadata": {},
   "outputs": [
    {
     "data": {
      "text/plain": [
       "Daniela    89.333333\n",
       "Zoe        89.000000\n",
       "Rowen      81.666667\n",
       "Jude       82.666667\n",
       "Austin     89.000000\n",
       "Jasper     95.000000\n",
       "Liora      88.000000\n",
       "Kieran     86.000000\n",
       "dtype: float64"
      ]
     },
     "execution_count": 10,
     "metadata": {},
     "output_type": "execute_result"
    }
   ],
   "source": [
    "df[['english','math','science']].mean(axis=1)"
   ]
  },
  {
   "cell_type": "markdown",
   "id": "65cb775e-1558-4e71-9d05-a081212b3503",
   "metadata": {},
   "source": [
    "Then we could assign that those calculated values to a new column"
   ]
  },
  {
   "cell_type": "code",
   "execution_count": 11,
   "id": "39f4ffc3-1481-44bd-a954-2266794f7789",
   "metadata": {},
   "outputs": [
    {
     "data": {
      "text/html": [
       "<div>\n",
       "<style scoped>\n",
       "    .dataframe tbody tr th:only-of-type {\n",
       "        vertical-align: middle;\n",
       "    }\n",
       "\n",
       "    .dataframe tbody tr th {\n",
       "        vertical-align: top;\n",
       "    }\n",
       "\n",
       "    .dataframe thead th {\n",
       "        text-align: right;\n",
       "    }\n",
       "</style>\n",
       "<table border=\"1\" class=\"dataframe\">\n",
       "  <thead>\n",
       "    <tr style=\"text-align: right;\">\n",
       "      <th></th>\n",
       "      <th>english</th>\n",
       "      <th>math</th>\n",
       "      <th>science</th>\n",
       "      <th>gender</th>\n",
       "      <th>mean</th>\n",
       "    </tr>\n",
       "  </thead>\n",
       "  <tbody>\n",
       "    <tr>\n",
       "      <th>Daniela</th>\n",
       "      <td>83</td>\n",
       "      <td>95</td>\n",
       "      <td>90</td>\n",
       "      <td>female</td>\n",
       "      <td>89.333333</td>\n",
       "    </tr>\n",
       "    <tr>\n",
       "      <th>Zoe</th>\n",
       "      <td>97</td>\n",
       "      <td>83</td>\n",
       "      <td>87</td>\n",
       "      <td>female</td>\n",
       "      <td>89.000000</td>\n",
       "    </tr>\n",
       "    <tr>\n",
       "      <th>Rowen</th>\n",
       "      <td>77</td>\n",
       "      <td>73</td>\n",
       "      <td>95</td>\n",
       "      <td>male</td>\n",
       "      <td>81.666667</td>\n",
       "    </tr>\n",
       "    <tr>\n",
       "      <th>Jude</th>\n",
       "      <td>95</td>\n",
       "      <td>80</td>\n",
       "      <td>73</td>\n",
       "      <td>non-binary</td>\n",
       "      <td>82.666667</td>\n",
       "    </tr>\n",
       "    <tr>\n",
       "      <th>Austin</th>\n",
       "      <td>87</td>\n",
       "      <td>100</td>\n",
       "      <td>80</td>\n",
       "      <td>male</td>\n",
       "      <td>89.000000</td>\n",
       "    </tr>\n",
       "    <tr>\n",
       "      <th>Jasper</th>\n",
       "      <td>92</td>\n",
       "      <td>94</td>\n",
       "      <td>99</td>\n",
       "      <td>non-binary</td>\n",
       "      <td>95.000000</td>\n",
       "    </tr>\n",
       "    <tr>\n",
       "      <th>Liora</th>\n",
       "      <td>88</td>\n",
       "      <td>89</td>\n",
       "      <td>87</td>\n",
       "      <td>female</td>\n",
       "      <td>88.000000</td>\n",
       "    </tr>\n",
       "    <tr>\n",
       "      <th>Kieran</th>\n",
       "      <td>72</td>\n",
       "      <td>96</td>\n",
       "      <td>90</td>\n",
       "      <td>male</td>\n",
       "      <td>86.000000</td>\n",
       "    </tr>\n",
       "  </tbody>\n",
       "</table>\n",
       "</div>"
      ],
      "text/plain": [
       "         english  math  science      gender       mean\n",
       "Daniela       83    95       90      female  89.333333\n",
       "Zoe           97    83       87      female  89.000000\n",
       "Rowen         77    73       95        male  81.666667\n",
       "Jude          95    80       73  non-binary  82.666667\n",
       "Austin        87   100       80        male  89.000000\n",
       "Jasper        92    94       99  non-binary  95.000000\n",
       "Liora         88    89       87      female  88.000000\n",
       "Kieran        72    96       90        male  86.000000"
      ]
     },
     "execution_count": 11,
     "metadata": {},
     "output_type": "execute_result"
    }
   ],
   "source": [
    "df['mean'] = df[['english','math','science']].mean(axis=1)\n",
    "df"
   ]
  },
  {
   "cell_type": "markdown",
   "id": "84a098f4-351a-4905-a882-54325c28db89",
   "metadata": {},
   "source": [
    "We could also make a calculation across rows. What's the average grade in English?"
   ]
  },
  {
   "cell_type": "code",
   "execution_count": 12,
   "id": "eee48370-8c18-4a6e-90a6-33432e477d2f",
   "metadata": {},
   "outputs": [
    {
     "data": {
      "text/plain": [
       "86.375"
      ]
     },
     "execution_count": 12,
     "metadata": {},
     "output_type": "execute_result"
    }
   ],
   "source": [
    "df['english'].mean()"
   ]
  },
  {
   "cell_type": "markdown",
   "id": "91facfb2-e821-4af9-8db5-eb719ea86cf7",
   "metadata": {},
   "source": [
    "## Sidebar: Series\n",
    "\n",
    "A single row or column in a Pandas DataFrame is a `Series`, which is its own class. DataFrames are made up of Series, which are basically fancy lists. The major difference between a DataFrame and a Series is that DataFrames are two-dimensional, whereas Series are one-dimensional. "
   ]
  },
  {
   "cell_type": "code",
   "execution_count": 13,
   "id": "542e169a-c592-4e9f-890b-4517a669da3f",
   "metadata": {},
   "outputs": [
    {
     "data": {
      "text/plain": [
       "pandas.core.series.Series"
      ]
     },
     "execution_count": 13,
     "metadata": {},
     "output_type": "execute_result"
    }
   ],
   "source": [
    "type(df['english'])"
   ]
  },
  {
   "cell_type": "markdown",
   "id": "50caf382-95b7-4c1f-ba75-ce0fd52693a9",
   "metadata": {},
   "source": [
    "## Sidebar: Previewing DataFrames\n",
    "\n",
    "Dataframes can get big fast. It can be helpful just to see the first few rows, or just to see the column names.\n",
    "\n",
    "the `head` method is used to show the first five rows by default, or you can set the argument with the number you want to see."
   ]
  },
  {
   "cell_type": "code",
   "execution_count": 14,
   "id": "27064fc9-dc17-4920-948e-ff126a31c91e",
   "metadata": {},
   "outputs": [
    {
     "data": {
      "text/html": [
       "<div>\n",
       "<style scoped>\n",
       "    .dataframe tbody tr th:only-of-type {\n",
       "        vertical-align: middle;\n",
       "    }\n",
       "\n",
       "    .dataframe tbody tr th {\n",
       "        vertical-align: top;\n",
       "    }\n",
       "\n",
       "    .dataframe thead th {\n",
       "        text-align: right;\n",
       "    }\n",
       "</style>\n",
       "<table border=\"1\" class=\"dataframe\">\n",
       "  <thead>\n",
       "    <tr style=\"text-align: right;\">\n",
       "      <th></th>\n",
       "      <th>english</th>\n",
       "      <th>math</th>\n",
       "      <th>science</th>\n",
       "      <th>gender</th>\n",
       "      <th>mean</th>\n",
       "    </tr>\n",
       "  </thead>\n",
       "  <tbody>\n",
       "    <tr>\n",
       "      <th>Daniela</th>\n",
       "      <td>83</td>\n",
       "      <td>95</td>\n",
       "      <td>90</td>\n",
       "      <td>female</td>\n",
       "      <td>89.333333</td>\n",
       "    </tr>\n",
       "    <tr>\n",
       "      <th>Zoe</th>\n",
       "      <td>97</td>\n",
       "      <td>83</td>\n",
       "      <td>87</td>\n",
       "      <td>female</td>\n",
       "      <td>89.000000</td>\n",
       "    </tr>\n",
       "    <tr>\n",
       "      <th>Rowen</th>\n",
       "      <td>77</td>\n",
       "      <td>73</td>\n",
       "      <td>95</td>\n",
       "      <td>male</td>\n",
       "      <td>81.666667</td>\n",
       "    </tr>\n",
       "    <tr>\n",
       "      <th>Jude</th>\n",
       "      <td>95</td>\n",
       "      <td>80</td>\n",
       "      <td>73</td>\n",
       "      <td>non-binary</td>\n",
       "      <td>82.666667</td>\n",
       "    </tr>\n",
       "    <tr>\n",
       "      <th>Austin</th>\n",
       "      <td>87</td>\n",
       "      <td>100</td>\n",
       "      <td>80</td>\n",
       "      <td>male</td>\n",
       "      <td>89.000000</td>\n",
       "    </tr>\n",
       "  </tbody>\n",
       "</table>\n",
       "</div>"
      ],
      "text/plain": [
       "         english  math  science      gender       mean\n",
       "Daniela       83    95       90      female  89.333333\n",
       "Zoe           97    83       87      female  89.000000\n",
       "Rowen         77    73       95        male  81.666667\n",
       "Jude          95    80       73  non-binary  82.666667\n",
       "Austin        87   100       80        male  89.000000"
      ]
     },
     "execution_count": 14,
     "metadata": {},
     "output_type": "execute_result"
    }
   ],
   "source": [
    "df.head()"
   ]
  },
  {
   "cell_type": "markdown",
   "id": "aac9a239-752c-442c-a24b-f10754804451",
   "metadata": {},
   "source": [
    "The `columns` attribute is very handy for listing all the columns. I tend to add the `to_list` method so Jupyter prints them out nicely without extra clutter."
   ]
  },
  {
   "cell_type": "code",
   "execution_count": 15,
   "id": "24d024b1-0126-4245-a03f-a58fbb2b3352",
   "metadata": {},
   "outputs": [
    {
     "data": {
      "text/plain": [
       "['english', 'math', 'science', 'gender', 'mean']"
      ]
     },
     "execution_count": 15,
     "metadata": {},
     "output_type": "execute_result"
    }
   ],
   "source": [
    "df.columns.tolist()"
   ]
  },
  {
   "cell_type": "code",
   "execution_count": 16,
   "id": "101320d2-fd28-4fb5-be70-11811e4a3395",
   "metadata": {},
   "outputs": [],
   "source": [
    "# pd.concat([df, df, df], axis=1).columns.tolist() # Use to demonstrate a DataFrame with more columns\n",
    "#                                                  # (I just concatenated three of the same df together)"
   ]
  },
  {
   "cell_type": "markdown",
   "id": "b8cc4762-074f-4adf-a993-23f11c7e4a2d",
   "metadata": {},
   "source": [
    "The `value_counts` method is very handy for previewing unique values in a column."
   ]
  },
  {
   "cell_type": "code",
   "execution_count": 17,
   "id": "ffcabe46-72dc-40f2-bda3-3e348b62f827",
   "metadata": {},
   "outputs": [
    {
     "data": {
      "text/plain": [
       "gender\n",
       "female        3\n",
       "male          3\n",
       "non-binary    2\n",
       "Name: count, dtype: int64"
      ]
     },
     "execution_count": 17,
     "metadata": {},
     "output_type": "execute_result"
    }
   ],
   "source": [
    "df['gender'].value_counts()"
   ]
  },
  {
   "cell_type": "markdown",
   "id": "547e0710-0366-41f2-9623-e6dad34873fc",
   "metadata": {},
   "source": [
    "## Selecting and filtering\n",
    "\n",
    "As part of that column calculation, we needed to select only part of a DataFrame: the columns for each subject. This is sometimes called 'slicing.'\n",
    "\n",
    "Columns and rows are identified by the bold headers to the left and top. You can select data based on these headers."
   ]
  },
  {
   "cell_type": "code",
   "execution_count": 18,
   "id": "584fa03b-c80c-455c-b5ef-a4815bed153d",
   "metadata": {},
   "outputs": [
    {
     "data": {
      "text/plain": [
       "Daniela    83\n",
       "Zoe        97\n",
       "Rowen      77\n",
       "Jude       95\n",
       "Austin     87\n",
       "Jasper     92\n",
       "Liora      88\n",
       "Kieran     72\n",
       "Name: english, dtype: int64"
      ]
     },
     "execution_count": 18,
     "metadata": {},
     "output_type": "execute_result"
    }
   ],
   "source": [
    "df['english'] # One column "
   ]
  },
  {
   "cell_type": "code",
   "execution_count": 19,
   "id": "bfecbeaa-2300-4606-a90e-11323e2d7efa",
   "metadata": {},
   "outputs": [
    {
     "data": {
      "text/html": [
       "<div>\n",
       "<style scoped>\n",
       "    .dataframe tbody tr th:only-of-type {\n",
       "        vertical-align: middle;\n",
       "    }\n",
       "\n",
       "    .dataframe tbody tr th {\n",
       "        vertical-align: top;\n",
       "    }\n",
       "\n",
       "    .dataframe thead th {\n",
       "        text-align: right;\n",
       "    }\n",
       "</style>\n",
       "<table border=\"1\" class=\"dataframe\">\n",
       "  <thead>\n",
       "    <tr style=\"text-align: right;\">\n",
       "      <th></th>\n",
       "      <th>english</th>\n",
       "      <th>math</th>\n",
       "      <th>science</th>\n",
       "    </tr>\n",
       "  </thead>\n",
       "  <tbody>\n",
       "    <tr>\n",
       "      <th>Daniela</th>\n",
       "      <td>83</td>\n",
       "      <td>95</td>\n",
       "      <td>90</td>\n",
       "    </tr>\n",
       "    <tr>\n",
       "      <th>Zoe</th>\n",
       "      <td>97</td>\n",
       "      <td>83</td>\n",
       "      <td>87</td>\n",
       "    </tr>\n",
       "    <tr>\n",
       "      <th>Rowen</th>\n",
       "      <td>77</td>\n",
       "      <td>73</td>\n",
       "      <td>95</td>\n",
       "    </tr>\n",
       "    <tr>\n",
       "      <th>Jude</th>\n",
       "      <td>95</td>\n",
       "      <td>80</td>\n",
       "      <td>73</td>\n",
       "    </tr>\n",
       "    <tr>\n",
       "      <th>Austin</th>\n",
       "      <td>87</td>\n",
       "      <td>100</td>\n",
       "      <td>80</td>\n",
       "    </tr>\n",
       "    <tr>\n",
       "      <th>Jasper</th>\n",
       "      <td>92</td>\n",
       "      <td>94</td>\n",
       "      <td>99</td>\n",
       "    </tr>\n",
       "    <tr>\n",
       "      <th>Liora</th>\n",
       "      <td>88</td>\n",
       "      <td>89</td>\n",
       "      <td>87</td>\n",
       "    </tr>\n",
       "    <tr>\n",
       "      <th>Kieran</th>\n",
       "      <td>72</td>\n",
       "      <td>96</td>\n",
       "      <td>90</td>\n",
       "    </tr>\n",
       "  </tbody>\n",
       "</table>\n",
       "</div>"
      ],
      "text/plain": [
       "         english  math  science\n",
       "Daniela       83    95       90\n",
       "Zoe           97    83       87\n",
       "Rowen         77    73       95\n",
       "Jude          95    80       73\n",
       "Austin        87   100       80\n",
       "Jasper        92    94       99\n",
       "Liora         88    89       87\n",
       "Kieran        72    96       90"
      ]
     },
     "execution_count": 19,
     "metadata": {},
     "output_type": "execute_result"
    }
   ],
   "source": [
    "df[['english','math','science']] # Multiple columns; note that the input is a list of column names "
   ]
  },
  {
   "cell_type": "code",
   "execution_count": 20,
   "id": "59e6cc64-42a1-4f12-9465-76707f61a12c",
   "metadata": {},
   "outputs": [
    {
     "data": {
      "text/plain": [
       "english           83\n",
       "math              95\n",
       "science           90\n",
       "gender        female\n",
       "mean       89.333333\n",
       "Name: Daniela, dtype: object"
      ]
     },
     "execution_count": 20,
     "metadata": {},
     "output_type": "execute_result"
    }
   ],
   "source": [
    "df.loc['Daniela'] # One row based on index value"
   ]
  },
  {
   "cell_type": "code",
   "execution_count": 21,
   "id": "e02b3516-e538-442f-a733-b992515ace72",
   "metadata": {},
   "outputs": [
    {
     "data": {
      "text/plain": [
       "english           83\n",
       "math              95\n",
       "science           90\n",
       "gender        female\n",
       "mean       89.333333\n",
       "Name: Daniela, dtype: object"
      ]
     },
     "execution_count": 21,
     "metadata": {},
     "output_type": "execute_result"
    }
   ],
   "source": [
    "df.iloc[0] # One row based on index order (starting with 0)"
   ]
  },
  {
   "cell_type": "code",
   "execution_count": 22,
   "id": "08cde071-c87d-4f51-929a-772e5f0dcfb8",
   "metadata": {},
   "outputs": [
    {
     "data": {
      "text/plain": [
       "83"
      ]
     },
     "execution_count": 22,
     "metadata": {},
     "output_type": "execute_result"
    }
   ],
   "source": [
    "df.at['Daniela', 'english'] # Single value"
   ]
  },
  {
   "cell_type": "markdown",
   "id": "04fb1455-d541-4e9a-aa7d-d70388fed876",
   "metadata": {},
   "source": [
    "### Filtering\n",
    "\n",
    "You can also retrieve a subset of a DataFrame based on a condition. This requires making a 'boolean mask', then selecting by that mask. Pandas will only return the rows or columns that are `True` in the mask."
   ]
  },
  {
   "cell_type": "code",
   "execution_count": 23,
   "id": "2454c618-b789-48b3-a656-972fc3f701f2",
   "metadata": {},
   "outputs": [
    {
     "data": {
      "text/plain": [
       "Daniela     True\n",
       "Zoe         True\n",
       "Rowen      False\n",
       "Jude       False\n",
       "Austin     False\n",
       "Jasper     False\n",
       "Liora       True\n",
       "Kieran     False\n",
       "Name: gender, dtype: bool"
      ]
     },
     "execution_count": 23,
     "metadata": {},
     "output_type": "execute_result"
    }
   ],
   "source": [
    "mask = df['gender'] == 'female'\n",
    "mask"
   ]
  },
  {
   "cell_type": "code",
   "execution_count": 24,
   "id": "d9b9a48a-9955-4b5c-9d27-9ee0a513c43f",
   "metadata": {},
   "outputs": [
    {
     "data": {
      "text/html": [
       "<div>\n",
       "<style scoped>\n",
       "    .dataframe tbody tr th:only-of-type {\n",
       "        vertical-align: middle;\n",
       "    }\n",
       "\n",
       "    .dataframe tbody tr th {\n",
       "        vertical-align: top;\n",
       "    }\n",
       "\n",
       "    .dataframe thead th {\n",
       "        text-align: right;\n",
       "    }\n",
       "</style>\n",
       "<table border=\"1\" class=\"dataframe\">\n",
       "  <thead>\n",
       "    <tr style=\"text-align: right;\">\n",
       "      <th></th>\n",
       "      <th>english</th>\n",
       "      <th>math</th>\n",
       "      <th>science</th>\n",
       "      <th>gender</th>\n",
       "      <th>mean</th>\n",
       "    </tr>\n",
       "  </thead>\n",
       "  <tbody>\n",
       "    <tr>\n",
       "      <th>Daniela</th>\n",
       "      <td>83</td>\n",
       "      <td>95</td>\n",
       "      <td>90</td>\n",
       "      <td>female</td>\n",
       "      <td>89.333333</td>\n",
       "    </tr>\n",
       "    <tr>\n",
       "      <th>Zoe</th>\n",
       "      <td>97</td>\n",
       "      <td>83</td>\n",
       "      <td>87</td>\n",
       "      <td>female</td>\n",
       "      <td>89.000000</td>\n",
       "    </tr>\n",
       "    <tr>\n",
       "      <th>Liora</th>\n",
       "      <td>88</td>\n",
       "      <td>89</td>\n",
       "      <td>87</td>\n",
       "      <td>female</td>\n",
       "      <td>88.000000</td>\n",
       "    </tr>\n",
       "  </tbody>\n",
       "</table>\n",
       "</div>"
      ],
      "text/plain": [
       "         english  math  science  gender       mean\n",
       "Daniela       83    95       90  female  89.333333\n",
       "Zoe           97    83       87  female  89.000000\n",
       "Liora         88    89       87  female  88.000000"
      ]
     },
     "execution_count": 24,
     "metadata": {},
     "output_type": "execute_result"
    }
   ],
   "source": [
    "df[mask]\n",
    "\n",
    "# df[df['gender'] == 'female'] # For something this simple, we would typically define the mask inside the selection"
   ]
  },
  {
   "cell_type": "markdown",
   "id": "f6a6b0b1-262d-471c-aa6f-a71c09a7a632",
   "metadata": {},
   "source": [
    "## Grouping\n",
    "\n",
    "A very powerful thing to do with tables is to group rows, then make calculations within groups. This is like PivotTable in Excel.\n",
    "\n",
    "Let's calculate the average grade in English by gender."
   ]
  },
  {
   "cell_type": "code",
   "execution_count": 25,
   "id": "ebd8dda9-5d57-41fb-bbf8-fcd7479994d5",
   "metadata": {},
   "outputs": [
    {
     "data": {
      "text/plain": [
       "gender\n",
       "female        89.333333\n",
       "male          78.666667\n",
       "non-binary    93.500000\n",
       "Name: english, dtype: float64"
      ]
     },
     "execution_count": 25,
     "metadata": {},
     "output_type": "execute_result"
    }
   ],
   "source": [
    "df.groupby('gender')['english'].mean()"
   ]
  },
  {
   "cell_type": "markdown",
   "id": "7c5a0bec-7e1a-4959-8d86-e02261ff7854",
   "metadata": {},
   "source": [
    "## Table structure\n",
    "\n",
    "Not all tables are alike. Some are organized in ways that make them easy to read in a report. Others might be organized in a way that makes it easy to do analyses with them. Of course, this organization might be different depending on the analysis.\n",
    "\n",
    "### Tidy data\n",
    "\n",
    "Data scientists like to talk about **tidy data**. This concept was [popularized by Hadley Wickham](https://vita.had.co.nz/papers/tidy-data.pdf), who authored much of the [tidyverse](https://www.tidyverse.org/) library for tabular analysis in R, which has many of the same functions as Pandas.\n",
    "\n",
    "Tidy data has three main properties ([see Wickham's paper for more details](https://vita.had.co.nz/papers/tidy-data.pdf)):\n",
    "1. Each variable forms a column.\n",
    "2. Each observation forms a row.\n",
    "3. Each type of observational unit forms a table.\n",
    "\n",
    "What this means, in practice, is that all calculations you might want to make with your data can be achieved by operating on entire columns, entire rows, or logical subsets of them (e.g., selections or groups).\n",
    "\n",
    "To understand what this means, let's look at an **un**-tidy table:"
   ]
  },
  {
   "cell_type": "markdown",
   "id": "840303a8-6bd2-4d8b-acc1-0003be5b10c6",
   "metadata": {},
   "source": [
    "<img src=\"https://communities.sas.com/t5/image/serverpage/image-id/15240i254B7F6F4F917A64/image-size/large?v=v2&px=999\" alt=\"Regression Table\" width=\"1000\"/>\n",
    "\n",
    "([Source](https://communities.sas.com/t5/SAS-Procedures/Making-a-publication-quality-table-from-regression-results-using/td-p/396779))"
   ]
  },
  {
   "cell_type": "markdown",
   "id": "f52ed052-fa60-45e1-af98-50b366bbfc52",
   "metadata": {},
   "source": [
    "This is a very common type of table reporting outputs from regression, a type of statistical model.\n",
    "\n",
    "A few key things to notice:\n",
    "1. This is actually two tables smashed into one, each with its own observational unit.\n",
    "    - The top half reports model estimates for each listed variable: 'treatment' and 'Constant'.\n",
    "    - The bottom provides summary statistics each model as a whole: 'Observations', 'R-squared', etc.\n",
    "    - This is fine for human reading—indeed, it is extremely common.\n",
    "    - It is a nightmare for analysis. If we loaded these data into Pandas, we would want to separate into two separate tables.\n",
    "2. The columns in the top half of the table include multiple types of variables.\n",
    "    - Regression coefficients with asterisks indicating statistical significance are on top\n",
    "    - Standard errors in parentheses are below\n",
    "    - A tidy data table would represent all these variables in separate columns: coefficient, significance, and standard error\n",
    "3. The top half of the table shows essentially the same thing three times, once for each model: (1), (2), and (3).\n",
    "    - This is what's called a \"wide\" table orientation. It has observations grouped by row.\n",
    "    - A \"long\" orientation, with each observation in a separate row, would be much more flexible for analysis.\n",
    "    - This would involve an additional column to store the model name, but would reduce the overall number of colums from 9 (3 for each model) to 4 (1 model column + 3 for coefficient, significance, and standard error)\n",
    "  \n",
    "### Converting wide to long\n",
    "\n",
    "Let's practice restructuring data with our example above:"
   ]
  },
  {
   "cell_type": "code",
   "execution_count": 26,
   "id": "8f14e549-a051-43ec-b9df-9a895b5a8d41",
   "metadata": {},
   "outputs": [
    {
     "data": {
      "text/html": [
       "<div>\n",
       "<style scoped>\n",
       "    .dataframe tbody tr th:only-of-type {\n",
       "        vertical-align: middle;\n",
       "    }\n",
       "\n",
       "    .dataframe tbody tr th {\n",
       "        vertical-align: top;\n",
       "    }\n",
       "\n",
       "    .dataframe thead th {\n",
       "        text-align: right;\n",
       "    }\n",
       "</style>\n",
       "<table border=\"1\" class=\"dataframe\">\n",
       "  <thead>\n",
       "    <tr style=\"text-align: right;\">\n",
       "      <th></th>\n",
       "      <th>name</th>\n",
       "      <th>english</th>\n",
       "      <th>math</th>\n",
       "      <th>science</th>\n",
       "      <th>gender</th>\n",
       "    </tr>\n",
       "  </thead>\n",
       "  <tbody>\n",
       "    <tr>\n",
       "      <th>0</th>\n",
       "      <td>Daniela</td>\n",
       "      <td>83</td>\n",
       "      <td>95</td>\n",
       "      <td>90</td>\n",
       "      <td>female</td>\n",
       "    </tr>\n",
       "    <tr>\n",
       "      <th>1</th>\n",
       "      <td>Zoe</td>\n",
       "      <td>97</td>\n",
       "      <td>83</td>\n",
       "      <td>87</td>\n",
       "      <td>female</td>\n",
       "    </tr>\n",
       "    <tr>\n",
       "      <th>2</th>\n",
       "      <td>Rowen</td>\n",
       "      <td>77</td>\n",
       "      <td>73</td>\n",
       "      <td>95</td>\n",
       "      <td>male</td>\n",
       "    </tr>\n",
       "    <tr>\n",
       "      <th>3</th>\n",
       "      <td>Jude</td>\n",
       "      <td>95</td>\n",
       "      <td>80</td>\n",
       "      <td>73</td>\n",
       "      <td>non-binary</td>\n",
       "    </tr>\n",
       "    <tr>\n",
       "      <th>4</th>\n",
       "      <td>Austin</td>\n",
       "      <td>87</td>\n",
       "      <td>100</td>\n",
       "      <td>80</td>\n",
       "      <td>male</td>\n",
       "    </tr>\n",
       "    <tr>\n",
       "      <th>5</th>\n",
       "      <td>Jasper</td>\n",
       "      <td>92</td>\n",
       "      <td>94</td>\n",
       "      <td>99</td>\n",
       "      <td>non-binary</td>\n",
       "    </tr>\n",
       "    <tr>\n",
       "      <th>6</th>\n",
       "      <td>Liora</td>\n",
       "      <td>88</td>\n",
       "      <td>89</td>\n",
       "      <td>87</td>\n",
       "      <td>female</td>\n",
       "    </tr>\n",
       "    <tr>\n",
       "      <th>7</th>\n",
       "      <td>Kieran</td>\n",
       "      <td>72</td>\n",
       "      <td>96</td>\n",
       "      <td>90</td>\n",
       "      <td>male</td>\n",
       "    </tr>\n",
       "  </tbody>\n",
       "</table>\n",
       "</div>"
      ],
      "text/plain": [
       "      name  english  math  science      gender\n",
       "0  Daniela       83    95       90      female\n",
       "1      Zoe       97    83       87      female\n",
       "2    Rowen       77    73       95        male\n",
       "3     Jude       95    80       73  non-binary\n",
       "4   Austin       87   100       80        male\n",
       "5   Jasper       92    94       99  non-binary\n",
       "6    Liora       88    89       87      female\n",
       "7   Kieran       72    96       90        male"
      ]
     },
     "execution_count": 26,
     "metadata": {},
     "output_type": "execute_result"
    }
   ],
   "source": [
    "df_recordwise"
   ]
  },
  {
   "cell_type": "markdown",
   "id": "6f7112aa-6fa6-4057-883c-db5721bc51ad",
   "metadata": {},
   "source": [
    "We could restructure the table with 'subject' and 'grade' columns instead of having separate columns for grades in each subject.\n",
    "\n",
    "`pd.melt` is the most flexible function for reshaping a DataFrame from wide to long.\n",
    "\n",
    "`pd.wide_to_long` can be easier to use in certain cases, but requires very specific column names."
   ]
  },
  {
   "cell_type": "code",
   "execution_count": 27,
   "id": "31455dec-3b8c-4324-a36a-b379a388de25",
   "metadata": {},
   "outputs": [
    {
     "data": {
      "text/html": [
       "<div>\n",
       "<style scoped>\n",
       "    .dataframe tbody tr th:only-of-type {\n",
       "        vertical-align: middle;\n",
       "    }\n",
       "\n",
       "    .dataframe tbody tr th {\n",
       "        vertical-align: top;\n",
       "    }\n",
       "\n",
       "    .dataframe thead th {\n",
       "        text-align: right;\n",
       "    }\n",
       "</style>\n",
       "<table border=\"1\" class=\"dataframe\">\n",
       "  <thead>\n",
       "    <tr style=\"text-align: right;\">\n",
       "      <th></th>\n",
       "      <th>name</th>\n",
       "      <th>gender</th>\n",
       "      <th>subject</th>\n",
       "      <th>grade</th>\n",
       "    </tr>\n",
       "  </thead>\n",
       "  <tbody>\n",
       "    <tr>\n",
       "      <th>0</th>\n",
       "      <td>Daniela</td>\n",
       "      <td>female</td>\n",
       "      <td>english</td>\n",
       "      <td>83</td>\n",
       "    </tr>\n",
       "    <tr>\n",
       "      <th>1</th>\n",
       "      <td>Zoe</td>\n",
       "      <td>female</td>\n",
       "      <td>english</td>\n",
       "      <td>97</td>\n",
       "    </tr>\n",
       "    <tr>\n",
       "      <th>2</th>\n",
       "      <td>Rowen</td>\n",
       "      <td>male</td>\n",
       "      <td>english</td>\n",
       "      <td>77</td>\n",
       "    </tr>\n",
       "    <tr>\n",
       "      <th>3</th>\n",
       "      <td>Jude</td>\n",
       "      <td>non-binary</td>\n",
       "      <td>english</td>\n",
       "      <td>95</td>\n",
       "    </tr>\n",
       "    <tr>\n",
       "      <th>4</th>\n",
       "      <td>Austin</td>\n",
       "      <td>male</td>\n",
       "      <td>english</td>\n",
       "      <td>87</td>\n",
       "    </tr>\n",
       "    <tr>\n",
       "      <th>5</th>\n",
       "      <td>Jasper</td>\n",
       "      <td>non-binary</td>\n",
       "      <td>english</td>\n",
       "      <td>92</td>\n",
       "    </tr>\n",
       "    <tr>\n",
       "      <th>6</th>\n",
       "      <td>Liora</td>\n",
       "      <td>female</td>\n",
       "      <td>english</td>\n",
       "      <td>88</td>\n",
       "    </tr>\n",
       "    <tr>\n",
       "      <th>7</th>\n",
       "      <td>Kieran</td>\n",
       "      <td>male</td>\n",
       "      <td>english</td>\n",
       "      <td>72</td>\n",
       "    </tr>\n",
       "    <tr>\n",
       "      <th>8</th>\n",
       "      <td>Daniela</td>\n",
       "      <td>female</td>\n",
       "      <td>math</td>\n",
       "      <td>95</td>\n",
       "    </tr>\n",
       "    <tr>\n",
       "      <th>9</th>\n",
       "      <td>Zoe</td>\n",
       "      <td>female</td>\n",
       "      <td>math</td>\n",
       "      <td>83</td>\n",
       "    </tr>\n",
       "    <tr>\n",
       "      <th>10</th>\n",
       "      <td>Rowen</td>\n",
       "      <td>male</td>\n",
       "      <td>math</td>\n",
       "      <td>73</td>\n",
       "    </tr>\n",
       "    <tr>\n",
       "      <th>11</th>\n",
       "      <td>Jude</td>\n",
       "      <td>non-binary</td>\n",
       "      <td>math</td>\n",
       "      <td>80</td>\n",
       "    </tr>\n",
       "    <tr>\n",
       "      <th>12</th>\n",
       "      <td>Austin</td>\n",
       "      <td>male</td>\n",
       "      <td>math</td>\n",
       "      <td>100</td>\n",
       "    </tr>\n",
       "    <tr>\n",
       "      <th>13</th>\n",
       "      <td>Jasper</td>\n",
       "      <td>non-binary</td>\n",
       "      <td>math</td>\n",
       "      <td>94</td>\n",
       "    </tr>\n",
       "    <tr>\n",
       "      <th>14</th>\n",
       "      <td>Liora</td>\n",
       "      <td>female</td>\n",
       "      <td>math</td>\n",
       "      <td>89</td>\n",
       "    </tr>\n",
       "    <tr>\n",
       "      <th>15</th>\n",
       "      <td>Kieran</td>\n",
       "      <td>male</td>\n",
       "      <td>math</td>\n",
       "      <td>96</td>\n",
       "    </tr>\n",
       "    <tr>\n",
       "      <th>16</th>\n",
       "      <td>Daniela</td>\n",
       "      <td>female</td>\n",
       "      <td>science</td>\n",
       "      <td>90</td>\n",
       "    </tr>\n",
       "    <tr>\n",
       "      <th>17</th>\n",
       "      <td>Zoe</td>\n",
       "      <td>female</td>\n",
       "      <td>science</td>\n",
       "      <td>87</td>\n",
       "    </tr>\n",
       "    <tr>\n",
       "      <th>18</th>\n",
       "      <td>Rowen</td>\n",
       "      <td>male</td>\n",
       "      <td>science</td>\n",
       "      <td>95</td>\n",
       "    </tr>\n",
       "    <tr>\n",
       "      <th>19</th>\n",
       "      <td>Jude</td>\n",
       "      <td>non-binary</td>\n",
       "      <td>science</td>\n",
       "      <td>73</td>\n",
       "    </tr>\n",
       "    <tr>\n",
       "      <th>20</th>\n",
       "      <td>Austin</td>\n",
       "      <td>male</td>\n",
       "      <td>science</td>\n",
       "      <td>80</td>\n",
       "    </tr>\n",
       "    <tr>\n",
       "      <th>21</th>\n",
       "      <td>Jasper</td>\n",
       "      <td>non-binary</td>\n",
       "      <td>science</td>\n",
       "      <td>99</td>\n",
       "    </tr>\n",
       "    <tr>\n",
       "      <th>22</th>\n",
       "      <td>Liora</td>\n",
       "      <td>female</td>\n",
       "      <td>science</td>\n",
       "      <td>87</td>\n",
       "    </tr>\n",
       "    <tr>\n",
       "      <th>23</th>\n",
       "      <td>Kieran</td>\n",
       "      <td>male</td>\n",
       "      <td>science</td>\n",
       "      <td>90</td>\n",
       "    </tr>\n",
       "  </tbody>\n",
       "</table>\n",
       "</div>"
      ],
      "text/plain": [
       "       name      gender  subject  grade\n",
       "0   Daniela      female  english     83\n",
       "1       Zoe      female  english     97\n",
       "2     Rowen        male  english     77\n",
       "3      Jude  non-binary  english     95\n",
       "4    Austin        male  english     87\n",
       "5    Jasper  non-binary  english     92\n",
       "6     Liora      female  english     88\n",
       "7    Kieran        male  english     72\n",
       "8   Daniela      female     math     95\n",
       "9       Zoe      female     math     83\n",
       "10    Rowen        male     math     73\n",
       "11     Jude  non-binary     math     80\n",
       "12   Austin        male     math    100\n",
       "13   Jasper  non-binary     math     94\n",
       "14    Liora      female     math     89\n",
       "15   Kieran        male     math     96\n",
       "16  Daniela      female  science     90\n",
       "17      Zoe      female  science     87\n",
       "18    Rowen        male  science     95\n",
       "19     Jude  non-binary  science     73\n",
       "20   Austin        male  science     80\n",
       "21   Jasper  non-binary  science     99\n",
       "22    Liora      female  science     87\n",
       "23   Kieran        male  science     90"
      ]
     },
     "execution_count": 27,
     "metadata": {},
     "output_type": "execute_result"
    }
   ],
   "source": [
    "df_long = pd.melt(\n",
    "    df_recordwise, \n",
    "    id_vars=['name','gender'], \n",
    "    value_vars=['english','math','science'], \n",
    "    var_name='subject', \n",
    "    value_name='grade',\n",
    ")\n",
    "df_long"
   ]
  },
  {
   "cell_type": "markdown",
   "id": "97dc9096-117b-4757-905c-23128d7f434f",
   "metadata": {},
   "source": [
    "Note that we can still calculate the average grade for each person, but through a slightly different approach that involves grouping."
   ]
  },
  {
   "cell_type": "code",
   "execution_count": 28,
   "id": "f69b4407-4f5d-4310-b43c-39b4c0bed231",
   "metadata": {},
   "outputs": [
    {
     "data": {
      "text/plain": [
       "name\n",
       "Austin     89.000000\n",
       "Daniela    89.333333\n",
       "Jasper     95.000000\n",
       "Jude       82.666667\n",
       "Kieran     86.000000\n",
       "Liora      88.000000\n",
       "Rowen      81.666667\n",
       "Zoe        89.000000\n",
       "Name: grade, dtype: float64"
      ]
     },
     "execution_count": 28,
     "metadata": {},
     "output_type": "execute_result"
    }
   ],
   "source": [
    "df_long.groupby('name')['grade'].mean()"
   ]
  },
  {
   "cell_type": "markdown",
   "id": "f43afb80-fa9a-466a-b83d-3aa782fbda37",
   "metadata": {},
   "source": [
    "We can also very easily calculate other summaries with different subsets of the data.\n",
    "\n",
    "Let's see what the highest grade was for female students in each subject. Or for each gender."
   ]
  },
  {
   "cell_type": "code",
   "execution_count": 29,
   "id": "d3ea313a-ed8b-44c7-874a-bab4962033e3",
   "metadata": {},
   "outputs": [
    {
     "data": {
      "text/plain": [
       "subject\n",
       "english    97\n",
       "math       95\n",
       "science    90\n",
       "Name: grade, dtype: int64"
      ]
     },
     "execution_count": 29,
     "metadata": {},
     "output_type": "execute_result"
    }
   ],
   "source": [
    "df_long[df_long['gender'] == 'female'].groupby(['subject'])['grade'].max()"
   ]
  },
  {
   "cell_type": "code",
   "execution_count": 30,
   "id": "27f17af6-3b5b-4ecb-adf7-9ed102c6d910",
   "metadata": {},
   "outputs": [
    {
     "data": {
      "text/plain": [
       "subject  gender    \n",
       "english  female         97\n",
       "         male           87\n",
       "         non-binary     95\n",
       "math     female         95\n",
       "         male          100\n",
       "         non-binary     94\n",
       "science  female         90\n",
       "         male           95\n",
       "         non-binary     99\n",
       "Name: grade, dtype: int64"
      ]
     },
     "execution_count": 30,
     "metadata": {},
     "output_type": "execute_result"
    }
   ],
   "source": [
    "df_long.groupby(['subject','gender'])['grade'].max()"
   ]
  },
  {
   "cell_type": "markdown",
   "id": "97739c4d-eb6c-4797-96a3-279c655c1a40",
   "metadata": {},
   "source": [
    "## Apply\n",
    "\n",
    "While you can do a lot of things with entire columns in DataFrames, sometimes it's still really helpful to do something iteratively, similar to a loop. This is especially good for very customized functions.\n",
    "\n",
    "The `apply` method applies a function iteratively across an entire column (or row or whole DataFrame).\n",
    "\n",
    "In the simplest (and most common) case, you write the function to accept the value from a single DataFrame cell, and return another single value."
   ]
  },
  {
   "cell_type": "code",
   "execution_count": 31,
   "id": "e96c9233-06cd-48ba-8fe8-19b78d00a7f5",
   "metadata": {},
   "outputs": [],
   "source": [
    "def get_first_and_last_letter(x):\n",
    "    first = x[0].lower()\n",
    "    last = x[-1].lower()\n",
    "    return f'{first}{last}'"
   ]
  },
  {
   "cell_type": "code",
   "execution_count": 32,
   "id": "684afcbc-7176-49d9-ad48-0e23b8779d1a",
   "metadata": {},
   "outputs": [
    {
     "data": {
      "text/html": [
       "<div>\n",
       "<style scoped>\n",
       "    .dataframe tbody tr th:only-of-type {\n",
       "        vertical-align: middle;\n",
       "    }\n",
       "\n",
       "    .dataframe tbody tr th {\n",
       "        vertical-align: top;\n",
       "    }\n",
       "\n",
       "    .dataframe thead th {\n",
       "        text-align: right;\n",
       "    }\n",
       "</style>\n",
       "<table border=\"1\" class=\"dataframe\">\n",
       "  <thead>\n",
       "    <tr style=\"text-align: right;\">\n",
       "      <th></th>\n",
       "      <th>name</th>\n",
       "      <th>gender</th>\n",
       "      <th>subject</th>\n",
       "      <th>grade</th>\n",
       "      <th>name_first_and_last_letter</th>\n",
       "    </tr>\n",
       "  </thead>\n",
       "  <tbody>\n",
       "    <tr>\n",
       "      <th>0</th>\n",
       "      <td>Daniela</td>\n",
       "      <td>female</td>\n",
       "      <td>english</td>\n",
       "      <td>83</td>\n",
       "      <td>da</td>\n",
       "    </tr>\n",
       "    <tr>\n",
       "      <th>1</th>\n",
       "      <td>Zoe</td>\n",
       "      <td>female</td>\n",
       "      <td>english</td>\n",
       "      <td>97</td>\n",
       "      <td>ze</td>\n",
       "    </tr>\n",
       "    <tr>\n",
       "      <th>2</th>\n",
       "      <td>Rowen</td>\n",
       "      <td>male</td>\n",
       "      <td>english</td>\n",
       "      <td>77</td>\n",
       "      <td>rn</td>\n",
       "    </tr>\n",
       "    <tr>\n",
       "      <th>3</th>\n",
       "      <td>Jude</td>\n",
       "      <td>non-binary</td>\n",
       "      <td>english</td>\n",
       "      <td>95</td>\n",
       "      <td>je</td>\n",
       "    </tr>\n",
       "    <tr>\n",
       "      <th>4</th>\n",
       "      <td>Austin</td>\n",
       "      <td>male</td>\n",
       "      <td>english</td>\n",
       "      <td>87</td>\n",
       "      <td>an</td>\n",
       "    </tr>\n",
       "  </tbody>\n",
       "</table>\n",
       "</div>"
      ],
      "text/plain": [
       "      name      gender  subject  grade name_first_and_last_letter\n",
       "0  Daniela      female  english     83                         da\n",
       "1      Zoe      female  english     97                         ze\n",
       "2    Rowen        male  english     77                         rn\n",
       "3     Jude  non-binary  english     95                         je\n",
       "4   Austin        male  english     87                         an"
      ]
     },
     "execution_count": 32,
     "metadata": {},
     "output_type": "execute_result"
    }
   ],
   "source": [
    "df_long['name_first_and_last_letter'] = df_long['name'].apply(get_first_and_last_letter)\n",
    "df_long.head()"
   ]
  },
  {
   "cell_type": "markdown",
   "id": "2f40b412-8b26-453f-9d6d-4e04106d8849",
   "metadata": {},
   "source": [
    "## Using a debugger\n",
    "\n",
    "Sometimes things just really don't work and it's hard to figure out why. This can be especially true when there is a lot of nesting with names accessible only inside functions or loops.\n",
    "\n",
    "There are special tools for debugging that can help step through code one line at a time, stop in specific places, and understand the values stored in variables at specific points in the program.\n",
    "\n",
    "A good way to [implement this in a Jupyter notebook](https://zohaib.me/debugging-in-google-collab-notebook/), including CoLab, is with a package called `ipdb`. Unfortunately, ipdb does not come pre-installed with CoLab, so we'll need to install it before we can import it.\n",
    "\n",
    "This is as easy as using a special character (`!`) to ask CoLab to run a command as if it was on the computer's command line, not with the Python interpreter.\n",
    "\n",
    "We're using a program called `pip`, which goes to its internet repositories, downloads ipdb, and installs it.\n",
    "\n",
    "With CoLab, you need to do this every time you use it because it wipes your virtual computer clean when your session times out."
   ]
  },
  {
   "cell_type": "code",
   "execution_count": 33,
   "id": "c4fd33f4-c225-45bd-a0eb-586b54b8269b",
   "metadata": {},
   "outputs": [],
   "source": [
    "!pip install -Uqq ipdb # This version will run 'quietly'\n",
    "\n",
    "# !pip install ipdb # This version will show log outputs"
   ]
  },
  {
   "cell_type": "markdown",
   "id": "0f326c21-8af1-4229-be9e-43cf3d05a7b9",
   "metadata": {},
   "source": [
    "Now that we have ipdb, we can import it and start debugging."
   ]
  },
  {
   "cell_type": "code",
   "execution_count": 34,
   "id": "328ba1ad-e699-4dfa-9ca7-9b6c4eb27d86",
   "metadata": {},
   "outputs": [],
   "source": [
    "import ipdb"
   ]
  },
  {
   "cell_type": "markdown",
   "id": "8abc56a2-16e4-459f-8607-efcab6b31772",
   "metadata": {},
   "source": [
    "Here's a loop with a logic error (this may look familiar from last week):"
   ]
  },
  {
   "cell_type": "code",
   "execution_count": 35,
   "id": "e4bd9d8f-da40-46a0-91f2-560ac03cf1b4",
   "metadata": {},
   "outputs": [
    {
     "name": "stdout",
     "output_type": "stream",
     "text": [
      "Daniela is a child\n",
      "Rowen is a child\n",
      "Zoe is a child\n",
      "Jude is a child\n",
      "Austin is a child\n"
     ]
    }
   ],
   "source": [
    "people = {'Daniela': 5, 'Rowen': 65, 'Zoe': 10, 'Jude': 81, 'Austin': 45}\n",
    "\n",
    "for name, age in people.items():\n",
    "    if age < 18:\n",
    "        age_desc = 'a child'\n",
    "    else:\n",
    "        age_des = 'an adult'\n",
    "    # ipdb.set_trace() # Here is the breakpoint where we'll inspect\n",
    "    print(f'{name} is {age_desc}')"
   ]
  },
  {
   "cell_type": "markdown",
   "id": "3780a8b5-4ba6-471c-90cc-bfd5c2d230b4",
   "metadata": {},
   "source": [
    "Let's use ipdb to dig into why every person is being listed as a child rather than an adult.\n",
    "\n",
    "First, we have to turn the debugger on. We use a shortcut called a 'magic command,' which is only valid within a notebook. It isn't technically Python."
   ]
  },
  {
   "cell_type": "code",
   "execution_count": 36,
   "id": "c7fb0713-e1e4-46fb-8dbf-6d4920828e3e",
   "metadata": {},
   "outputs": [
    {
     "name": "stdout",
     "output_type": "stream",
     "text": [
      "Automatic pdb calling has been turned ON\n"
     ]
    }
   ],
   "source": [
    "%pdb on\n",
    "\n",
    "# %pdb off # Turn it off"
   ]
  },
  {
   "cell_type": "markdown",
   "id": "cbe95c50-9ff8-4993-a8fb-35b4a4cabfa2",
   "metadata": {},
   "source": [
    "### Breakpoints\n",
    "\n",
    "Add `ipdb.set_trace()` anywhere in program to stop it for inspection.\n",
    "\n",
    "Then use commands to continue flow as needed.\n",
    "\n",
    "|Command|Description|\n",
    "|--- |--- |\n",
    "|h(elp)|Show various commands supported by ipdb|\n",
    "|h(elp) COMMAND|Show description of the COMMAND specificed|\n",
    "|c(ontinue)|Continue executing till it hits another breakpoint|\n",
    "|n(ext)|Execute till next line in the same code frame. So if there is a function it wouldn't step into that function but execute it.|\n",
    "|s(tep)|Step to next code, so if its a function, it will step into the function.|\n",
    "|r(eturn)|Execute code till it returns from the current function or hits another breakpoint.|\n",
    "|l(ist)|Show more of the source code surrounding the  line.|\n",
    "|w(here)|Shows the stacktrace i.e. the chain of functions that made it reach the current function|\n",
    "|a(rguments)|List of arguments passed and its values to the function|\n",
    "|q(uit)|Immediately stop execution and quit the debugger|"
   ]
  },
  {
   "cell_type": "code",
   "execution_count": null,
   "id": "81e9d96a-c962-47f3-a8f9-e09c047a4017",
   "metadata": {},
   "outputs": [],
   "source": []
  }
 ],
 "metadata": {
  "kernelspec": {
   "display_name": "Python 3 (ipykernel)",
   "language": "python",
   "name": "python3"
  },
  "language_info": {
   "codemirror_mode": {
    "name": "ipython",
    "version": 3
   },
   "file_extension": ".py",
   "mimetype": "text/x-python",
   "name": "python",
   "nbconvert_exporter": "python",
   "pygments_lexer": "ipython3",
   "version": "3.10.12"
  }
 },
 "nbformat": 4,
 "nbformat_minor": 5
}
