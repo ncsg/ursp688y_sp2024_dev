{
 "cells": [
  {
   "cell_type": "markdown",
   "id": "13b62af4-9c03-46d7-805c-cebadd28185e",
   "metadata": {
    "editable": true,
    "slideshow": {
     "slide_type": ""
    },
    "tags": []
   },
   "source": [
    "Urban Data Science & Smart Cities <br>\n",
    "URSP688Y <br>\n",
    "Instructor: Chester Harvey <br>\n",
    "Urban Studies & Planning <br>\n",
    "National Center for Smart Growth <br>\n",
    "University of Maryland"
   ]
  },
  {
   "cell_type": "markdown",
   "id": "c01d7dab-14e4-4222-b82b-8d400bce0e2c",
   "metadata": {},
   "source": [
    "[<img src=\"https://colab.research.google.com/assets/colab-badge.svg\"> Clean version](https://colab.research.google.com/github/ncsg/ursp688y_sp2024/blob/main/demos/demo02/demo02.ipynb)"
   ]
  },
  {
   "cell_type": "markdown",
   "id": "e7a0a5da-0108-408b-b306-58f59b895ad8",
   "metadata": {},
   "source": [
    "[<img src=\"https://colab.research.google.com/assets/colab-badge.svg\"> Modified in class](https://colab.research.google.com/drive/1prKx4NcR1mDwX2rvaFclyx0xX7-cVyTg?usp=sharing)"
   ]
  },
  {
   "attachments": {},
   "cell_type": "markdown",
   "id": "b7d7937e-5289-44bb-ac8b-1e0b03a74e0b",
   "metadata": {},
   "source": [
    "# Demo 2 - More programming fundamentals\n",
    "\n",
    "- Intro to programming (continued)\n",
    "    - Basic data types\n",
    "    - Programming logic\n",
    "        - Conditions\n",
    "        - Loops\n",
    "    - Functions\n",
    "        - Namespaces\n",
    "    - Errors and debugging\n",
    "    - Goodies\n",
    "        - Conditional expressions\n",
    "        - List comprehensions\n",
    "    - Errors and debugging\n",
    "- Pseudocode"
   ]
  },
  {
   "cell_type": "markdown",
   "id": "66b92b9f-6395-460a-b954-8fe894e68be9",
   "metadata": {},
   "source": [
    "## Intro to Python Programming (continued)"
   ]
  },
  {
   "cell_type": "markdown",
   "id": "1c418985-eb94-45c3-8790-f992b7f9621f",
   "metadata": {},
   "source": [
    "### Basic style guidelines for Python\n",
    "- At the very least, do *everything* consistently\n",
    "- One statement per line\n",
    "- Try to limit line length to 72 characters\n",
    "- Use four spaces to indent\n",
    "- Put spaces around operators (e.g., `1 + 1` or `day = 'Monday'`) (except in keyword function arguments)\n",
    "- Use blank lines intentionally and consistently\n",
    "- Use meaningful names\n",
    "- Name variables and functions with `lowercase_underscores`\n",
    "- Constants are often named in `ALL_CAPS_WITH_UNDERSCORES` (e.g., `C = 2.99792458e+8`)\n",
    "- Name custom classes with `CapWords`\n",
    "- In general, avoid spaces in folder and filenames used for programming\n",
    "\n",
    "See [Code Readability](https://github.com/ncsg/ursp688y_sp2024/blob/main/README.md#code-readability) on the syllabus. [CS61A](https://cs61a.org/articles/composition/) has an excellent composition guide. [PEP 8](https://peps.python.org/pep-0008/) is a standard Python style guide. [Google](https://google.github.io/styleguide/pyguide.html) publishes their internal Python style guide."
   ]
  },
  {
   "cell_type": "markdown",
   "id": "70c72dd2-448e-46c7-881f-b37f21282cfd",
   "metadata": {},
   "source": [
    "### Basic Data Types"
   ]
  },
  {
   "cell_type": "markdown",
   "id": "33b57f67-e6c4-4a1c-ac3a-95c7695012e8",
   "metadata": {},
   "source": [
    "#### String\n",
    "Text. Must be surrounded by either double (\") or single (') quotes"
   ]
  },
  {
   "cell_type": "code",
   "execution_count": 1,
   "id": "045bfe67-def4-4f85-afda-cd8245bf744f",
   "metadata": {},
   "outputs": [
    {
     "name": "stdout",
     "output_type": "stream",
     "text": [
      "<class 'str'>\n",
      "Chester\n"
     ]
    }
   ],
   "source": [
    "name = \"Chester\"\n",
    "print(type(name)) # This statement uses the type and print functions to show that example_string is, in fact, a string\n",
    "print(name) # This statement uses the print function to show the contents of example_string"
   ]
  },
  {
   "cell_type": "markdown",
   "id": "dec8be96-ed22-46c6-bc45-4c78d7100888",
   "metadata": {},
   "source": [
    "[F-strings](https://realpython.com/python-f-strings/) are a super handy syntax for building strings with variables."
   ]
  },
  {
   "cell_type": "code",
   "execution_count": 2,
   "id": "f922fc5b-00bd-4ca9-96af-f17ca056b76c",
   "metadata": {},
   "outputs": [
    {
     "data": {
      "text/plain": [
       "'My name is Chester'"
      ]
     },
     "execution_count": 2,
     "metadata": {},
     "output_type": "execute_result"
    }
   ],
   "source": [
    "f'My name is {name}'"
   ]
  },
  {
   "cell_type": "markdown",
   "id": "137c1252-9b98-48d5-b719-5de5c7b74a4b",
   "metadata": {},
   "source": [
    "#### Integer\n",
    "Number without decimal places"
   ]
  },
  {
   "cell_type": "code",
   "execution_count": 3,
   "id": "99276988-e30e-4aef-95f5-b10a81c5f0b2",
   "metadata": {},
   "outputs": [
    {
     "name": "stdout",
     "output_type": "stream",
     "text": [
      "<class 'int'>\n",
      "25\n"
     ]
    }
   ],
   "source": [
    "age = 25\n",
    "print(type(age))\n",
    "print(age)"
   ]
  },
  {
   "cell_type": "markdown",
   "id": "995b449e-0d5a-4b53-8df3-ecf294f8ac1b",
   "metadata": {},
   "source": [
    "#### Float\n",
    "Number with decimal places"
   ]
  },
  {
   "cell_type": "code",
   "execution_count": 4,
   "id": "0795703d-dd36-4438-8ea0-3de4520fa6a7",
   "metadata": {},
   "outputs": [
    {
     "name": "stdout",
     "output_type": "stream",
     "text": [
      "<class 'float'>\n",
      "5.95\n"
     ]
    }
   ],
   "source": [
    "height = 5.95\n",
    "print(type(height))\n",
    "print(height)"
   ]
  },
  {
   "cell_type": "markdown",
   "id": "de8e7847-bb11-4901-b906-c9fe6df2772a",
   "metadata": {},
   "source": [
    "#### Boolean\n",
    "True or False"
   ]
  },
  {
   "cell_type": "code",
   "execution_count": 5,
   "id": "caab6c9b-9d42-427d-b7ba-abece0a5d76b",
   "metadata": {},
   "outputs": [
    {
     "name": "stdout",
     "output_type": "stream",
     "text": [
      "<class 'bool'>\n",
      "False\n"
     ]
    }
   ],
   "source": [
    "private_jet = False\n",
    "print(type(private_jet))\n",
    "print(private_jet)"
   ]
  },
  {
   "cell_type": "markdown",
   "id": "2c93b011-44ba-455d-89aa-b7a8f0ab8278",
   "metadata": {},
   "source": [
    "### Composite Data Types"
   ]
  },
  {
   "cell_type": "markdown",
   "id": "d1713c83-158a-444b-8fa3-64350bcdb6bd",
   "metadata": {},
   "source": [
    "#### List\n",
    "An ordered array of objects."
   ]
  },
  {
   "cell_type": "code",
   "execution_count": 6,
   "id": "d2b5d20b-a1ad-4678-912e-6031945d7c4e",
   "metadata": {},
   "outputs": [
    {
     "name": "stdout",
     "output_type": "stream",
     "text": [
      "<class 'list'>\n",
      "['milk', 'apple', 'celery', 'yogurt']\n"
     ]
    }
   ],
   "source": [
    "fridge_contents = ['milk','apple','celery','yogurt']\n",
    "print(type(fridge_contents))\n",
    "print(fridge_contents)"
   ]
  },
  {
   "cell_type": "code",
   "execution_count": 7,
   "id": "c0fb6686-a5dd-4cec-b0eb-617f86f70e02",
   "metadata": {},
   "outputs": [
    {
     "data": {
      "text/plain": [
       "['milk', 'apple', 'celery', 'yogurt', 'orange juice', 'leftovers']"
      ]
     },
     "execution_count": 7,
     "metadata": {},
     "output_type": "execute_result"
    }
   ],
   "source": [
    "# You can add lists together\n",
    "fridge_contents = fridge_contents + ['orange juice', 'leftovers']\n",
    "fridge_contents"
   ]
  },
  {
   "cell_type": "code",
   "execution_count": 8,
   "id": "07216695-3897-4d87-9869-debeaa4cf988",
   "metadata": {},
   "outputs": [
    {
     "data": {
      "text/plain": [
       "['milk', 'apple', 'celery', 'yogurt', 'orange juice', 'leftovers', 'cheese']"
      ]
     },
     "execution_count": 8,
     "metadata": {},
     "output_type": "execute_result"
    }
   ],
   "source": [
    "# Or append elements to a list\n",
    "fridge_contents.append('cheese')\n",
    "fridge_contents"
   ]
  },
  {
   "cell_type": "code",
   "execution_count": 9,
   "id": "cd699bbc-5407-474e-8181-4f9bc0c85a64",
   "metadata": {},
   "outputs": [
    {
     "data": {
      "text/plain": [
       "['milk', 'apple', 'celery', 'orange juice', 'leftovers', 'cheese']"
      ]
     },
     "execution_count": 9,
     "metadata": {},
     "output_type": "execute_result"
    }
   ],
   "source": [
    "# Or remove things\n",
    "fridge_contents.remove('yogurt')\n",
    "fridge_contents"
   ]
  },
  {
   "cell_type": "code",
   "execution_count": 10,
   "id": "a02b1fac-d0d0-45ad-8cb3-1170288a5652",
   "metadata": {},
   "outputs": [
    {
     "data": {
      "text/plain": [
       "'milk'"
      ]
     },
     "execution_count": 10,
     "metadata": {},
     "output_type": "execute_result"
    }
   ],
   "source": [
    "# You can look things up in a list by index number, starting with 0\n",
    "fridge_contents[0]"
   ]
  },
  {
   "cell_type": "code",
   "execution_count": 11,
   "id": "7e195a47-9cf8-4bc0-b219-27690c52fece",
   "metadata": {},
   "outputs": [
    {
     "data": {
      "text/plain": [
       "['milk', 'apple']"
      ]
     },
     "execution_count": 11,
     "metadata": {},
     "output_type": "execute_result"
    }
   ],
   "source": [
    "# Or get just a part of a list with \"indexing\"\n",
    "fridge_contents[:2]"
   ]
  },
  {
   "cell_type": "markdown",
   "id": "9c22560e-64ae-42d2-a18a-53d6fb1fa5f3",
   "metadata": {},
   "source": [
    "#### Dictionary\n",
    "\n",
    "Labeled data stored as key-value pairs.\n",
    "\n",
    "*Note*: Dictionaries used to be unordered, but as of Python 3.6 they technically maintain their order. Lists are still usually preferred when order matters. There's also something called an [ordered dictionary](https://realpython.com/python-ordereddict/), which makes it more explicit that you care about order and can make it easier to manage/change order."
   ]
  },
  {
   "cell_type": "code",
   "execution_count": 12,
   "id": "a4397468-f437-46bb-ba68-f88c3547fd85",
   "metadata": {},
   "outputs": [
    {
     "name": "stdout",
     "output_type": "stream",
     "text": [
      "<class 'dict'>\n",
      "{'basketball': 2, 'baseball': 1, 'skiing': 8, 'volleyball': 3}\n"
     ]
    }
   ],
   "source": [
    "goodness_at_sports = {\n",
    "    'basketball': 2,\n",
    "    'baseball': 1,\n",
    "    'skiing': 8,\n",
    "    'volleyball': 3,\n",
    "}\n",
    "print(type(goodness_at_sports))\n",
    "print(goodness_at_sports)"
   ]
  },
  {
   "cell_type": "code",
   "execution_count": 13,
   "id": "bbd92e3f-8953-4be4-9a21-51fcf7ec8119",
   "metadata": {},
   "outputs": [],
   "source": [
    "# You can add an entry to a dictionary\n",
    "goodness_at_sports['cornhole'] = 3"
   ]
  },
  {
   "cell_type": "code",
   "execution_count": 14,
   "id": "2f919b57-d88c-4545-b281-88c778d90ecd",
   "metadata": {},
   "outputs": [
    {
     "data": {
      "text/plain": [
       "1"
      ]
     },
     "execution_count": 14,
     "metadata": {},
     "output_type": "execute_result"
    }
   ],
   "source": [
    "# And remove one\n",
    "goodness_at_sports.pop('baseball')"
   ]
  },
  {
   "cell_type": "code",
   "execution_count": 15,
   "id": "01334be7-c7b9-4a88-8438-53c2ffabf17d",
   "metadata": {},
   "outputs": [
    {
     "data": {
      "text/plain": [
       "8"
      ]
     },
     "execution_count": 15,
     "metadata": {},
     "output_type": "execute_result"
    }
   ],
   "source": [
    "# And look up values based on keys\n",
    "goodness_at_sports['skiing']"
   ]
  },
  {
   "cell_type": "markdown",
   "id": "6570799e-3bdb-4559-8e59-1096cb92d183",
   "metadata": {},
   "source": [
    "### Programming logic\n",
    "\n",
    "Now that we've got basic building blocks, we can *do* things with them.\n",
    "\n",
    "This requires programming logic: using logical statements to control the flow of our code in productive ways."
   ]
  },
  {
   "cell_type": "markdown",
   "id": "73701067-a752-4018-a048-2f81062ddd43",
   "metadata": {},
   "source": [
    "#### [Conditions](https://realpython.com/python-conditional-statements/)"
   ]
  },
  {
   "cell_type": "code",
   "execution_count": 16,
   "id": "b5b91f40-b9e0-4eb0-aca3-22fabacce04a",
   "metadata": {},
   "outputs": [
    {
     "name": "stdout",
     "output_type": "stream",
     "text": [
      "child\n"
     ]
    }
   ],
   "source": [
    "age = 10\n",
    "if age < 18:\n",
    "    print('child')\n",
    "else:\n",
    "    print('adult')\n",
    "\n",
    "# Can we add a third condition for teenager?"
   ]
  },
  {
   "cell_type": "markdown",
   "id": "9d0594b3-26a0-4df8-8965-00cf838cdf64",
   "metadata": {},
   "source": [
    "#### Loops\n",
    "\n",
    "Python has both [`for` loops](https://realpython.com/python-for-loop/) and [`while` loops](https://realpython.com/python-while-loop/).\n",
    "\n",
    "We're going to focus on `for` loops because they're most commonly used in data science. While loops are particularly handy in applications that respond to dynamic inputs from users or data streams."
   ]
  },
  {
   "cell_type": "code",
   "execution_count": 17,
   "id": "cc265766-0348-4bdb-8304-8f398ba96a82",
   "metadata": {},
   "outputs": [
    {
     "name": "stdout",
     "output_type": "stream",
     "text": [
      "child\n",
      "child\n",
      "adult\n",
      "adult\n",
      "adult\n"
     ]
    }
   ],
   "source": [
    "ages = [5, 10, 65, 81, 45]\n",
    "\n",
    "for age in ages:\n",
    "    if age < 18:\n",
    "        print('child')\n",
    "    else:\n",
    "        print('adult')"
   ]
  },
  {
   "cell_type": "code",
   "execution_count": 18,
   "id": "164f4793-8a43-4c79-9de7-d471d39d2e19",
   "metadata": {},
   "outputs": [
    {
     "name": "stdout",
     "output_type": "stream",
     "text": [
      "Daniela is a child\n",
      "Zoe is a child\n",
      "Rowen is an adult\n",
      "Jude is an adult\n",
      "Austin is an adult\n"
     ]
    }
   ],
   "source": [
    "people = {\n",
    "    'Daniela': 5, \n",
    "    'Zoe': 10,\n",
    "    'Rowen': 65,\n",
    "    'Jude': 81,\n",
    "    'Austin': 45,\n",
    "}\n",
    "\n",
    "for name, age in people.items():\n",
    "    if age < 18:\n",
    "        age_desc = 'a child'\n",
    "    else:\n",
    "        age_desc = 'an adult'\n",
    "    print(f'{name} is {age_desc}')"
   ]
  },
  {
   "cell_type": "markdown",
   "id": "c125e738-481b-4cd7-909a-1fa704a9aeb1",
   "metadata": {},
   "source": [
    "### Functions\n",
    "\n",
    "Functions are integral to efficient programming, and core to a paradigm called [\"functional programming.\"](https://realpython.com/python-functional-programming/).\n",
    "\n",
    "Functions break up code into blocks that can be written in a general way, tested to ensure they do what you want them to, and reused over and over again by you and others. Like loops, they save having to write the same code repetitively. They also help keep your code organized, making it easier to locate and fix bugs. Eventually, you will start combining functions stored in lots of different places, allowing you to build on others' work.\n",
    "\n",
    "In fact, you have already used functions. \"Built-in\" functions like `print` and `len` were written by someone long ago and stored deep in the bowels of Python's source code. All you need to do to use them is call them by their names and input information. Then they do some processing and spit out a result. \n",
    "\n",
    "<img src=\"https://miro.medium.com/v2/resize:fit:880/0*xMEO8AbXwdsgnHSH.png\" alt=\"Diagram of a function with input and output\" width=\"400\"/>\n",
    "\n",
    "The inputs to a function are called \"arguments.\" Functions can have no arguments or infinite arguments, but let's stick with one or two to demonstrate how they usually work.\n",
    "\n",
    "Let's first write a function, then use it. Using a function is called \"calling\" it."
   ]
  },
  {
   "cell_type": "code",
   "execution_count": 19,
   "id": "ec76f0e1-9706-482e-99d1-1910a9c70675",
   "metadata": {},
   "outputs": [],
   "source": [
    "# The statement to define a function starts with 'def', then a space, then the function name, then parentheses listing the arguments\n",
    "def label_age(age): \n",
    "    if age < 18:\n",
    "        label = 'child'\n",
    "    else:\n",
    "        label = 'adult'\n",
    "    return label"
   ]
  },
  {
   "cell_type": "code",
   "execution_count": 20,
   "id": "c4e6aa75-9bdc-434d-8b1a-ceb43d37ba35",
   "metadata": {},
   "outputs": [
    {
     "data": {
      "text/plain": [
       "'adult'"
      ]
     },
     "execution_count": 20,
     "metadata": {},
     "output_type": "execute_result"
    }
   ],
   "source": [
    "# To call the function, we write its name, then put values for the arguments in parentheses\n",
    "label_age(20)"
   ]
  },
  {
   "cell_type": "code",
   "execution_count": 21,
   "id": "ca68409d-e43c-4569-905d-87968c1f79d9",
   "metadata": {},
   "outputs": [],
   "source": [
    "# We could have multiple arguments.\n",
    "def label_age(name, age): \n",
    "    if age < 18:\n",
    "        label = 'a child'\n",
    "    else:\n",
    "        label = 'an adult'\n",
    "    return f'{name} is {label}'"
   ]
  },
  {
   "cell_type": "code",
   "execution_count": 22,
   "id": "226c9c60-7853-4e7e-849f-4e9db023611f",
   "metadata": {},
   "outputs": [
    {
     "data": {
      "text/plain": [
       "'Chester is an adult'"
      ]
     },
     "execution_count": 22,
     "metadata": {},
     "output_type": "execute_result"
    }
   ],
   "source": [
    "# You need to list them in the correct order when you call the function (positional arguments)\n",
    "label_age('Chester', 20)"
   ]
  },
  {
   "cell_type": "code",
   "execution_count": 23,
   "id": "2ea79b36-ab75-4f3d-ae1e-c48d2d4799e9",
   "metadata": {},
   "outputs": [
    {
     "ename": "TypeError",
     "evalue": "'<' not supported between instances of 'str' and 'int'",
     "output_type": "error",
     "traceback": [
      "\u001b[0;31m---------------------------------------------------------------------------\u001b[0m",
      "\u001b[0;31mTypeError\u001b[0m                                 Traceback (most recent call last)",
      "Cell \u001b[0;32mIn[23], line 2\u001b[0m\n\u001b[1;32m      1\u001b[0m \u001b[38;5;66;03m# This won't work...\u001b[39;00m\n\u001b[0;32m----> 2\u001b[0m \u001b[43mlabel_age\u001b[49m\u001b[43m(\u001b[49m\u001b[38;5;241;43m20\u001b[39;49m\u001b[43m,\u001b[49m\u001b[43m \u001b[49m\u001b[38;5;124;43m'\u001b[39;49m\u001b[38;5;124;43mChester\u001b[39;49m\u001b[38;5;124;43m'\u001b[39;49m\u001b[43m)\u001b[49m\n",
      "Cell \u001b[0;32mIn[21], line 3\u001b[0m, in \u001b[0;36mlabel_age\u001b[0;34m(name, age)\u001b[0m\n\u001b[1;32m      2\u001b[0m \u001b[38;5;28;01mdef\u001b[39;00m \u001b[38;5;21mlabel_age\u001b[39m(name, age): \n\u001b[0;32m----> 3\u001b[0m     \u001b[38;5;28;01mif\u001b[39;00m \u001b[43mage\u001b[49m\u001b[43m \u001b[49m\u001b[38;5;241;43m<\u001b[39;49m\u001b[43m \u001b[49m\u001b[38;5;241;43m18\u001b[39;49m:\n\u001b[1;32m      4\u001b[0m         label \u001b[38;5;241m=\u001b[39m \u001b[38;5;124m'\u001b[39m\u001b[38;5;124ma child\u001b[39m\u001b[38;5;124m'\u001b[39m\n\u001b[1;32m      5\u001b[0m     \u001b[38;5;28;01melse\u001b[39;00m:\n",
      "\u001b[0;31mTypeError\u001b[0m: '<' not supported between instances of 'str' and 'int'"
     ]
    }
   ],
   "source": [
    "# This won't work...\n",
    "label_age(20, 'Chester')"
   ]
  },
  {
   "cell_type": "code",
   "execution_count": 24,
   "id": "19c698dd-da13-4de9-a3c3-5a46b1fa9872",
   "metadata": {},
   "outputs": [
    {
     "data": {
      "text/plain": [
       "'Chester is an adult'"
      ]
     },
     "execution_count": 24,
     "metadata": {},
     "output_type": "execute_result"
    }
   ],
   "source": [
    "# Or specify them overtly (keyword arguments)\n",
    "label_age(age=20, name='Chester')"
   ]
  },
  {
   "cell_type": "markdown",
   "id": "b50189e8-81c5-4600-8613-ccb2cf1bada3",
   "metadata": {},
   "source": [
    "#### Namespaces\n",
    "\n",
    "Functions are a good way to understand a somewhat complicated (but ultimately VERY useful) aspect of Python: namespaces.\n",
    "\n",
    "Namespaces refer to the parts of code where certain variables, _names_, exist and are accessible to other code. Having different namespaces allows the same variable names to be used by multiple parts of the code without having to keep such careful track of what values are assigned to them or whether they are being overwritten. \n",
    "\n",
    "Namespaces minimize naming clutter, maximize flexibility, and allow code to be written in ways that are generalizable to lots of applications.\n",
    "\n",
    "The function we just wrote has two arguments, `name` and `age`, which are variables inside the function. It also defines another variable, `label`, which is usable inside the function. We call these variables that are _local_ to the function. We can see the variables local to a namespace by printing the output of the `locals` function (notice that it doesn't need any arguments)."
   ]
  },
  {
   "cell_type": "code",
   "execution_count": 25,
   "id": "5aef29a9-573f-4dc3-a8ee-0d13c1c5c88d",
   "metadata": {},
   "outputs": [],
   "source": [
    "def label_age(name, age): \n",
    "    if age < 18:\n",
    "        label = 'a child'\n",
    "    else:\n",
    "        label = 'an adult'\n",
    "    \n",
    "    print(f'Local variables: {locals()}')\n",
    "    \n",
    "    return f'{name} is {label}'"
   ]
  },
  {
   "cell_type": "code",
   "execution_count": 26,
   "id": "9f7d2599-fdd8-4821-85e2-1c76fdd72efd",
   "metadata": {},
   "outputs": [
    {
     "name": "stdout",
     "output_type": "stream",
     "text": [
      "Local variables: {'name': 'Chester', 'age': 20, 'label': 'an adult'}\n"
     ]
    },
    {
     "data": {
      "text/plain": [
       "'Chester is an adult'"
      ]
     },
     "execution_count": 26,
     "metadata": {},
     "output_type": "execute_result"
    }
   ],
   "source": [
    "label_age('Chester', 20)"
   ]
  },
  {
   "cell_type": "markdown",
   "id": "2c8ada7c-8b1b-4056-bfb5-6857ee9073ed",
   "metadata": {},
   "source": [
    "If we go outside the function, those variables won't necessarily have the same vales assigned to them, and they might not be defined at all."
   ]
  },
  {
   "cell_type": "code",
   "execution_count": 27,
   "id": "589f1058-2b6d-44a5-8e39-9a63695784f6",
   "metadata": {},
   "outputs": [
    {
     "name": "stdout",
     "output_type": "stream",
     "text": [
      "Austin\n",
      "45\n"
     ]
    },
    {
     "ename": "NameError",
     "evalue": "name 'label' is not defined",
     "output_type": "error",
     "traceback": [
      "\u001b[0;31m---------------------------------------------------------------------------\u001b[0m",
      "\u001b[0;31mNameError\u001b[0m                                 Traceback (most recent call last)",
      "Cell \u001b[0;32mIn[27], line 3\u001b[0m\n\u001b[1;32m      1\u001b[0m \u001b[38;5;28mprint\u001b[39m(name)\n\u001b[1;32m      2\u001b[0m \u001b[38;5;28mprint\u001b[39m(age)\n\u001b[0;32m----> 3\u001b[0m \u001b[38;5;28mprint\u001b[39m(\u001b[43mlabel\u001b[49m)\n",
      "\u001b[0;31mNameError\u001b[0m: name 'label' is not defined"
     ]
    }
   ],
   "source": [
    "print(name)\n",
    "print(age)\n",
    "print(label)"
   ]
  },
  {
   "cell_type": "markdown",
   "id": "7064eb8e-64eb-487e-bf35-4407bf16cf99",
   "metadata": {},
   "source": [
    "We can also see all the local variables in this namespace; we've built up a lot!\n",
    "\n",
    "Bonus: what data type does the `locals` function return?"
   ]
  },
  {
   "cell_type": "code",
   "execution_count": 28,
   "id": "d5017671-57ce-417f-a127-f62f49bad965",
   "metadata": {},
   "outputs": [],
   "source": [
    "# locals()"
   ]
  },
  {
   "cell_type": "markdown",
   "id": "148eca8c-5a5e-485c-9b01-30d4c85542d5",
   "metadata": {},
   "source": [
    "#### Something to watch out for with function namespaces:\n",
    "\n",
    "If you include a previously-defined variable in a function definition and don't name it as an argument, its value in the function will be set by the _outer_ namespace where it was first defined.\n",
    "\n",
    "This function gets age from the the _global_ namespace, which is a much more complicated and less controlled space to operate in. \n",
    "\n",
    "It's best practice to do as much as possible within local namespaces. This means adding all data needed by a function as arguments."
   ]
  },
  {
   "cell_type": "code",
   "execution_count": 29,
   "id": "c81ff89c-8cea-450f-8107-186970c3690b",
   "metadata": {},
   "outputs": [],
   "source": [
    "age = 20\n",
    "\n",
    "def label_age(name):\n",
    "    if age < 18:\n",
    "        label = 'a child'\n",
    "    else:\n",
    "        label = 'an adult'\n",
    "    # print(f'Local variables: {locals()}')\n",
    "    # print('')\n",
    "    # print(f'Global variables: {globals()}')\n",
    "    return f'{name} is {label}'\n",
    "    "
   ]
  },
  {
   "cell_type": "code",
   "execution_count": 30,
   "id": "79a54bbe-28c9-48d1-a2b9-cc0fa8991cf9",
   "metadata": {},
   "outputs": [
    {
     "data": {
      "text/plain": [
       "'Austin is an adult'"
      ]
     },
     "execution_count": 30,
     "metadata": {},
     "output_type": "execute_result"
    }
   ],
   "source": [
    "label_age(name)"
   ]
  },
  {
   "cell_type": "code",
   "execution_count": 31,
   "id": "6702e0cf-f580-4fef-8d9e-6ecaa6d65519",
   "metadata": {},
   "outputs": [
    {
     "data": {
      "text/plain": [
       "'Austin is a child'"
      ]
     },
     "execution_count": 31,
     "metadata": {},
     "output_type": "execute_result"
    }
   ],
   "source": [
    "age = 10\n",
    "label_age(name)"
   ]
  },
  {
   "cell_type": "markdown",
   "id": "f86bc965-af6a-468b-a707-f81de1a06c19",
   "metadata": {},
   "source": [
    "### Goodies\n",
    "\n",
    "There is often more than one way to do something in Python.\n",
    "\n",
    "For simple/common statements, there are often simpler ways to write them. This is part of what it means for syntax to be [\"Pythonic.\"](https://www.udacity.com/blog/2020/09/what-is-pythonic-style.html)"
   ]
  },
  {
   "cell_type": "markdown",
   "id": "e12fb57f-8024-4bec-904f-d93ba96609a1",
   "metadata": {},
   "source": [
    "#### Conditional expressions\n",
    "\n",
    "Instead of writing a basic condition with indented code blocks you can compress it into a single statement."
   ]
  },
  {
   "cell_type": "code",
   "execution_count": 32,
   "id": "7d225867-80ff-4149-ba08-18a17a0e5129",
   "metadata": {},
   "outputs": [
    {
     "name": "stdout",
     "output_type": "stream",
     "text": [
      "short\n",
      "short\n"
     ]
    }
   ],
   "source": [
    "name = 'Chester'\n",
    "\n",
    "if len(name) > 8:\n",
    "    length = 'long'\n",
    "else:\n",
    "    length = 'short'\n",
    "\n",
    "print(length)\n",
    "\n",
    "# is the same as...\n",
    "\n",
    "length = 'long' if len(name) > 8 else 'short'\n",
    "\n",
    "print(length)"
   ]
  },
  {
   "cell_type": "markdown",
   "id": "905c7175-83f0-441a-b2b8-f427ee1f38c9",
   "metadata": {},
   "source": [
    "#### List comprehensions\n",
    "\n",
    "Instead of looping over a list with an indented code block, you can operate on each element of it with a single statement.\n",
    "\n",
    "Using list comprehensions well will immediately make you look like a pro."
   ]
  },
  {
   "cell_type": "code",
   "execution_count": 33,
   "id": "716c4a6e-07c7-407a-bac0-8f7ee53513f2",
   "metadata": {},
   "outputs": [
    {
     "name": "stdout",
     "output_type": "stream",
     "text": [
      "['D', 'Z', 'R', 'J', 'A']\n",
      "['D', 'Z', 'R', 'J', 'A']\n"
     ]
    }
   ],
   "source": [
    "names = ['Daniela', 'Zoe', 'Rowen', 'Jude', 'Austin']\n",
    "\n",
    "first_letters = []\n",
    "for name in names:\n",
    "    first_letters.append(name[0])\n",
    "print(first_letters)\n",
    "\n",
    "# is the same as...\n",
    "\n",
    "first_letters = [name[0] for name in names]\n",
    "print(first_letters)"
   ]
  },
  {
   "cell_type": "code",
   "execution_count": 34,
   "id": "e3942d5e-c972-4cb2-b164-dcf857735da7",
   "metadata": {},
   "outputs": [
    {
     "name": "stdout",
     "output_type": "stream",
     "text": [
      "['daniela', 'zoe', 'rowen', 'jude', 'austin']\n",
      "['daniela', 'zoe', 'rowen', 'jude', 'austin']\n"
     ]
    }
   ],
   "source": [
    "lower_case_names = []\n",
    "for name in names:\n",
    "    lower_case_names.append(name.lower())\n",
    "print(lower_case_names)\n",
    "\n",
    "# is the same as...\n",
    "\n",
    "lower_case_names = [name.lower() for name in names]\n",
    "print(lower_case_names)"
   ]
  },
  {
   "cell_type": "markdown",
   "id": "89acaf1a-a772-4f22-bdd7-06e765bd1bb5",
   "metadata": {},
   "source": [
    "### Errors and debugging\n",
    "\n",
    "Errors are frustrating and inevitable. Even professional programmers probably spend most of their time debugging.\n",
    "\n",
    "Luckily, there are good tools and techniques for making debugging a little easier.\n",
    "\n",
    "Despite these, you will probably nearly tear your hair out with some frequency, especially as a beginner. It will get better with time.\n",
    "\n",
    "There are two types of errors in programming: logic and syntax. They both result in your program not achieving its goal, but the first may not be as easily detectable because the code may still run.\n",
    "\n",
    "#### Logic errors\n",
    "These are issues with how you have approached or executed your problem. If your code runs but produces nonsensical results, there is probably a logic error. However, your erroneous code might also produce logical but *wrong* results; you might never notice until the problem has rippled downstream. It's best to address this proactively by planning your code well so it's less likely to be illogical, and writing readable code that can be easily reviewed.\n",
    "\n",
    "Here's a logic error. Can you find it? (Hint: the issue is syntactical, but it's still a logic error because the code works without throwing an error.)"
   ]
  },
  {
   "cell_type": "code",
   "execution_count": 35,
   "id": "7ae245be-438c-4af0-88ff-4fbefd368015",
   "metadata": {},
   "outputs": [
    {
     "name": "stdout",
     "output_type": "stream",
     "text": [
      "Daniela is a child\n",
      "Zoe is a child\n",
      "Rowen is a child\n",
      "Jude is a child\n",
      "Austin is a child\n"
     ]
    }
   ],
   "source": [
    "for name, age in people.items():\n",
    "    if age < 18:\n",
    "        age_desc = 'a child'\n",
    "    else:\n",
    "        age_des = 'an adult'\n",
    "    print(f'{name} is {age_desc}')"
   ]
  },
  {
   "cell_type": "markdown",
   "id": "6c4200b2-2176-4329-9a12-68ff65efd852",
   "metadata": {},
   "source": [
    "#### Syntax errors\n",
    "These are more obvious because your code will simply fail. There are lots of tools for figuring out where and why.\n",
    "\n",
    "Error messages are usually the starting place for debugging a syntax error."
   ]
  },
  {
   "cell_type": "code",
   "execution_count": 36,
   "id": "1c4df4de-f47b-4f25-9074-4b0397cc5ea5",
   "metadata": {},
   "outputs": [
    {
     "ename": "ValueError",
     "evalue": "too many values to unpack (expected 2)",
     "output_type": "error",
     "traceback": [
      "\u001b[0;31m---------------------------------------------------------------------------\u001b[0m",
      "\u001b[0;31mValueError\u001b[0m                                Traceback (most recent call last)",
      "Cell \u001b[0;32mIn[36], line 1\u001b[0m\n\u001b[0;32m----> 1\u001b[0m \u001b[38;5;28;01mfor\u001b[39;00m name, age \u001b[38;5;129;01min\u001b[39;00m people:\n\u001b[1;32m      2\u001b[0m     \u001b[38;5;28;01mif\u001b[39;00m agete \u001b[38;5;241m<\u001b[39m \u001b[38;5;241m18\u001b[39m:\n\u001b[1;32m      3\u001b[0m         age_desc \u001b[38;5;241m=\u001b[39m \u001b[38;5;124m'\u001b[39m\u001b[38;5;124ma child\u001b[39m\u001b[38;5;124m'\u001b[39m\n",
      "\u001b[0;31mValueError\u001b[0m: too many values to unpack (expected 2)"
     ]
    }
   ],
   "source": [
    "for name, age in people:\n",
    "    if agete < 18:\n",
    "        age_desc = 'a child'\n",
    "    else:\n",
    "        age_desc = 'an adult'\n",
    "    print(f'{name} is {age_desc}')"
   ]
  },
  {
   "cell_type": "markdown",
   "id": "e62b2d21-45dd-41c0-824f-b4496e7d45dd",
   "metadata": {},
   "source": [
    "The error message tells us where the problem is located.\n",
    "\n",
    "Sometimes, it can be helpful to turn on line numbers.\n",
    "- In Colab: `Tools -> Settings -> Editor -> Show line numbers`\n",
    "- In JupyterLab: `View -> Show Line Numbers`\n",
    "\n",
    "The `ValueError` tells us that the issue is related to the value of a variable on this line, but it's still pretty vague.\n",
    "\n",
    "Time to start [Googling](https://www.google.com/).\n",
    "\n",
    "You can also get some help with Python functions and objects with the `help` function:"
   ]
  },
  {
   "cell_type": "code",
   "execution_count": 37,
   "id": "47348ca2-cb76-44ee-bfe8-145c2aad1a00",
   "metadata": {},
   "outputs": [
    {
     "name": "stdout",
     "output_type": "stream",
     "text": [
      "Help on built-in function len in module builtins:\n",
      "\n",
      "len(obj, /)\n",
      "    Return the number of items in a container.\n",
      "\n"
     ]
    }
   ],
   "source": [
    "help(len)"
   ]
  },
  {
   "cell_type": "code",
   "execution_count": 38,
   "id": "6a143e61-2fe3-41c2-ac92-f13b9484ee9a",
   "metadata": {},
   "outputs": [],
   "source": [
    "# help(goodness_at_sports)"
   ]
  },
  {
   "cell_type": "markdown",
   "id": "c03e2ff0-f5d0-4c43-9e9d-24c06259a5f1",
   "metadata": {},
   "source": [
    "## Pseudocode\n",
    "\n",
    "You can work out programming logic without even writing code.\n",
    "\n",
    "In fact, it's a great idea to start with pseudocode.\n",
    "\n",
    "That way you can think big-picture without getting distracted by the intricacies of syntax or availability of pre-existing components."
   ]
  },
  {
   "cell_type": "code",
   "execution_count": 39,
   "id": "30dae4af-b689-4864-97d3-b3c866ac0f8d",
   "metadata": {},
   "outputs": [],
   "source": [
    "# Pseudocode for testing whether each person is a child or an adult\n",
    "\n",
    "# structure the data as a dictionary of people with their ages\n",
    "# loop through the people\n",
    "    # if the person's age is < 18:\n",
    "        # return child\n",
    "    # otherwise:\n",
    "        # return adult"
   ]
  },
  {
   "cell_type": "markdown",
   "id": "e226c3c5-36ab-4e77-b609-185147642091",
   "metadata": {},
   "source": [
    "Can we write pseudocode for making scrambled eggs?"
   ]
  }
 ],
 "metadata": {
  "kernelspec": {
   "display_name": "Python 3 (ipykernel)",
   "language": "python",
   "name": "python3"
  },
  "language_info": {
   "codemirror_mode": {
    "name": "ipython",
    "version": 3
   },
   "file_extension": ".py",
   "mimetype": "text/x-python",
   "name": "python",
   "nbconvert_exporter": "python",
   "pygments_lexer": "ipython3",
   "version": "3.10.12"
  }
 },
 "nbformat": 4,
 "nbformat_minor": 5
}
