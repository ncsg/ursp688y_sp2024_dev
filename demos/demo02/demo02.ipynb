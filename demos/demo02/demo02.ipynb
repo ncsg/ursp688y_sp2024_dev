{
 "cells": [
  {
   "cell_type": "markdown",
   "id": "13b62af4-9c03-46d7-805c-cebadd28185e",
   "metadata": {},
   "source": [
    "Urban Data Science & Smart Cities <br>\n",
    "URSP688Y <br>\n",
    "Instructor: Chester Harvey <br>\n",
    "Urban Studies & Planning <br>\n",
    "National Center for Smart Growth <br>\n",
    "University of Maryland"
   ]
  },
  {
   "cell_type": "markdown",
   "id": "b7d7937e-5289-44bb-ac8b-1e0b03a74e0b",
   "metadata": {},
   "source": [
    "# Demo 2 - More programming fundamentals\n",
    "- Unitization\n",
    "    - Functions\n",
    "    - Classes and methods\n",
    "    - Namespaces\n",
    "    - Packages\n",
    "- Goodies\n",
    "  - Conditional expressions\n",
    "  - List comprehensions\n",
    "  - Recursion\n",
    "- Advanced debugging\n",
    "- Building and troubleshooting\n",
    "  - Documentation\n",
    "  - Google\n",
    "  - Generative AI"
   ]
  },
  {
   "cell_type": "markdown",
   "id": "b7449752-5036-4b4d-a669-8947dc4802a8",
   "metadata": {},
   "source": [
    "### Unitization\n",
    "\n",
    "Programs are built by combining small things into bigger and bigger components.\n",
    "\n",
    "Good programming is highly unitized, making it easy to reuse components in flexible ways and troubleshoot them when they break.\n",
    "\n",
    "All components in programming have a very basic common structure:\n",
    "1. Take information in (optional, in some sense)\n",
    "2. Do something with it\n",
    "3. Return information back out\n",
    "\n",
    "We've already been working with lots of built-in units: data types, operators, and even some functions and methods. Now let's dig a bit deeper into how they work."
   ]
  },
  {
   "cell_type": "markdown",
   "id": "37af9b31-7293-422e-b3c0-c040b62804c4",
   "metadata": {},
   "source": [
    "#### Functions\n",
    "\n",
    "[Functional programming](https://docs.python.org/3/howto/functional.html) is building sets of expressions that can be recycled again and again with different data. It is efficient, highly adaptable, and easy to troubleshoot.\n",
    "\n",
    "<big><big>We will heavily use functional programming in this class. It is a mainstay of data science.</big></big>\n",
    "\n",
    "Functions have a name and inputs, which are called \"arguments.\" They return an output."
   ]
  },
  {
   "cell_type": "code",
   "execution_count": 103,
   "id": "61f2b23e-35ea-48ed-bd0b-1f4ba4946d38",
   "metadata": {},
   "outputs": [
    {
     "name": "stdout",
     "output_type": "stream",
     "text": [
      "Austin\n"
     ]
    }
   ],
   "source": [
    "# We have already used some built-in functions, and they probably seemed intuitive:\n",
    "print(name)"
   ]
  },
  {
   "cell_type": "code",
   "execution_count": 107,
   "id": "cc18a236-fd93-4c85-a449-d46d2f716890",
   "metadata": {},
   "outputs": [
    {
     "data": {
      "text/plain": [
       "str"
      ]
     },
     "execution_count": 107,
     "metadata": {},
     "output_type": "execute_result"
    }
   ],
   "source": [
    "type(name)"
   ]
  },
  {
   "cell_type": "code",
   "execution_count": 105,
   "id": "7886705f-2109-4f87-9251-d61fef35893f",
   "metadata": {},
   "outputs": [
    {
     "data": {
      "text/plain": [
       "4"
      ]
     },
     "execution_count": 105,
     "metadata": {},
     "output_type": "execute_result"
    }
   ],
   "source": [
    "# Some other handy built-in functions:\n",
    "len(name)\n",
    "len(people)\n",
    "len(goodness_at_sports)"
   ]
  },
  {
   "cell_type": "code",
   "execution_count": 112,
   "id": "30ec3ddf-2074-4349-8cec-07ee89030d38",
   "metadata": {},
   "outputs": [
    {
     "data": {
      "text/plain": [
       "189"
      ]
     },
     "execution_count": 112,
     "metadata": {},
     "output_type": "execute_result"
    }
   ],
   "source": [
    "sum(ages)"
   ]
  },
  {
   "cell_type": "markdown",
   "id": "b07d6b37-a3e0-45cb-a7b1-02a52b75ce00",
   "metadata": {},
   "source": [
    "Now let's build out own function."
   ]
  },
  {
   "cell_type": "code",
   "execution_count": 115,
   "id": "ebfca961-68a0-4781-98c2-cd1805f2f06b",
   "metadata": {},
   "outputs": [
    {
     "data": {
      "text/plain": [
       "37.8"
      ]
     },
     "execution_count": 115,
     "metadata": {},
     "output_type": "execute_result"
    }
   ],
   "source": [
    "def average(nums):\n",
    "    \"\"\"Calculates the average of a list of numbers\n",
    "    \n",
    "    nums: list of numbers\n",
    "    \"\"\"\n",
    "    return sum(nums) / len(nums)\n",
    "\n",
    "average(ages)"
   ]
  },
  {
   "cell_type": "code",
   "execution_count": 114,
   "id": "a52a6365-6689-420b-bc87-fe03728bd454",
   "metadata": {},
   "outputs": [
    {
     "data": {
      "text/plain": [
       "37.8"
      ]
     },
     "execution_count": 114,
     "metadata": {},
     "output_type": "execute_result"
    }
   ],
   "source": []
  },
  {
   "cell_type": "code",
   "execution_count": null,
   "id": "7f0ccc5e-e495-4fdc-8c87-1ca76ad54fa7",
   "metadata": {},
   "outputs": [],
   "source": []
  }
 ],
 "metadata": {
  "kernelspec": {
   "display_name": "Python 3 (ipykernel)",
   "language": "python",
   "name": "python3"
  },
  "language_info": {
   "codemirror_mode": {
    "name": "ipython",
    "version": 3
   },
   "file_extension": ".py",
   "mimetype": "text/x-python",
   "name": "python",
   "nbconvert_exporter": "python",
   "pygments_lexer": "ipython3",
   "version": "3.10.12"
  }
 },
 "nbformat": 4,
 "nbformat_minor": 5
}
